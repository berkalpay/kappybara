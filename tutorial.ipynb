{
 "cells": [
  {
   "cell_type": "markdown",
   "metadata": {},
   "source": [
    "# Tutorial\n",
    "\n",
    "Kappybara works in terms of patterns, mixtures, and rules, culminating in systems.\n",
    "Let's see how the API works at each level.\n",
    "(This tutorial is a work in progress and will in the future also describe such core functionality as expressions and ComponentMixtures.)"
   ]
  },
  {
   "cell_type": "code",
   "execution_count": 1,
   "metadata": {
    "execution": {
     "iopub.execute_input": "2025-10-30T17:07:39.422808Z",
     "iopub.status.busy": "2025-10-30T17:07:39.422623Z",
     "iopub.status.idle": "2025-10-30T17:07:39.426163Z",
     "shell.execute_reply": "2025-10-30T17:07:39.425481Z"
    },
    "nbsphinx": "hidden"
   },
   "outputs": [],
   "source": [
    "import random\n",
    "random.seed(0)"
   ]
  },
  {
   "cell_type": "markdown",
   "metadata": {},
   "source": [
    "## Patterns\n",
    "\n",
    "As in Kappa, patterns (subsets of a mixture on which rules can operate) can be broken down into components (a connected set of agents).\n",
    "Agents are typed objects with named sites, each of which has an internal state and possibly a binding partner -- the site of another agent.\n",
    "All of these classes of objects can be constructed from Kappa strings using the `from_kappa` classmethod."
   ]
  },
  {
   "cell_type": "code",
   "execution_count": 2,
   "metadata": {
    "execution": {
     "iopub.execute_input": "2025-10-30T17:07:39.428295Z",
     "iopub.status.busy": "2025-10-30T17:07:39.428087Z",
     "iopub.status.idle": "2025-10-30T17:07:39.568479Z",
     "shell.execute_reply": "2025-10-30T17:07:39.567624Z"
    }
   },
   "outputs": [
    {
     "name": "stdout",
     "output_type": "stream",
     "text": [
      "Agent A: A(x[.])\n",
      "Agent B: B(x[.])\n",
      "Complex A(x[1]), B(x[1])\n"
     ]
    }
   ],
   "source": [
    "from kappybara.pattern import Agent, Pattern, Component\n",
    "\n",
    "# Parse agents A and B from Kappa strings\n",
    "a = Agent.from_kappa(\"A(x[.])\")\n",
    "b = Agent.from_kappa(\"B(x[.])\")\n",
    "print(\"Agent A:\", a.kappa_str)\n",
    "print(\"Agent B:\", b.kappa_str)\n",
    "\n",
    "# Create an AB complex\n",
    "complex = Component.from_kappa(\"A(x[1]), B(x[1])\")\n",
    "# Or equivalently:\n",
    "complex = Pattern.from_kappa(\"A(x[1]), B(x[1])\").components[0]\n",
    "print(\"Complex\", complex.kappa_str)"
   ]
  },
  {
   "cell_type": "markdown",
   "metadata": {},
   "source": [
    "Each agent in a mixture is essentially a node in a graph.\n",
    "Kappybara implements functions such as the ones below, identifying neighbors of an agent and checking whether a component embeds in another, or is in other words isomorphic to a subset of another."
   ]
  },
  {
   "cell_type": "code",
   "execution_count": 3,
   "metadata": {
    "execution": {
     "iopub.execute_input": "2025-10-30T17:07:39.570319Z",
     "iopub.status.busy": "2025-10-30T17:07:39.570116Z",
     "iopub.status.idle": "2025-10-30T17:07:39.574281Z",
     "shell.execute_reply": "2025-10-30T17:07:39.573510Z"
    }
   },
   "outputs": [
    {
     "name": "stdout",
     "output_type": "stream",
     "text": [
      "Root agent type: A\n",
      "Neighbors of root: ['B']\n",
      "Embeddings of complex in itself: 1\n"
     ]
    }
   ],
   "source": [
    "root = next(iter(complex))\n",
    "print(\"Root agent type:\", root.type)\n",
    "print(\"Neighbors of root:\", [neighbor.type for neighbor in root.neighbors])\n",
    "\n",
    "self_embeddings = list(complex.embeddings(complex))\n",
    "print(\"Embeddings of complex in itself:\", len(self_embeddings))"
   ]
  },
  {
   "cell_type": "markdown",
   "metadata": {},
   "source": [
    "## Mixtures\n",
    "\n",
    "A mixture, like components and patterns, is a collection of agents, but one which facilitates the application of rules by efficiently updating embeddings according to changes in the mixture.\n",
    "Mixtures can be initialized and adjusted programatically, or again initialized from Kappa strings."
   ]
  },
  {
   "cell_type": "code",
   "execution_count": 4,
   "metadata": {
    "execution": {
     "iopub.execute_input": "2025-10-30T17:07:39.576054Z",
     "iopub.status.busy": "2025-10-30T17:07:39.575885Z",
     "iopub.status.idle": "2025-10-30T17:07:39.611444Z",
     "shell.execute_reply": "2025-10-30T17:07:39.610669Z"
    }
   },
   "outputs": [
    {
     "name": "stdout",
     "output_type": "stream",
     "text": [
      "Mixture as a Kappa string:\n",
      "%init: 3 A(x[.])\n",
      "%init: 2 B(x[1]), A(x[1])\n",
      "%init: 2 B(x[.])\n",
      "\n",
      "#AB embeddings (cached): 2\n"
     ]
    }
   ],
   "source": [
    "from kappybara.mixture import Mixture\n",
    "\n",
    "mixture = Mixture()\n",
    "mixture.instantiate(\"A(x[.])\", n_copies=3)\n",
    "mixture.instantiate(\"B(x[.])\", n_copies=2)\n",
    "mixture.instantiate(\"A(x[1]), B(x[1])\", n_copies=2)\n",
    "\n",
    "print(f\"Mixture as a Kappa string:\\n{mixture.kappa_str}\\n\")\n",
    "\n",
    "# Track a component pattern to query embeddings efficiently\n",
    "mixture.track_component(complex)\n",
    "print(\"#AB embeddings (cached):\", len(mixture.embeddings(complex)))"
   ]
  },
  {
   "cell_type": "markdown",
   "metadata": {},
   "source": [
    "## Rules\n",
    "\n",
    "Rules transform agents matched by their left-hand side into those specified by the right-hand side.\n",
    "Specifically, `rate(system)` evaluates the stochastic rate (possibly using variables), `n_embeddings(mixture)` counts applicable embeddings, and `select(mixture)` samples a specific embedding and returns a MixtureUpdate, which a mixture can then take to efficiently apply the corresponding update."
   ]
  },
  {
   "cell_type": "markdown",
   "metadata": {},
   "source": [
    "Let's add a rule to bind `A` and `B` into `AB` and see how the mixture applies it."
   ]
  },
  {
   "cell_type": "code",
   "execution_count": 5,
   "metadata": {
    "execution": {
     "iopub.execute_input": "2025-10-30T17:07:39.613309Z",
     "iopub.status.busy": "2025-10-30T17:07:39.613103Z",
     "iopub.status.idle": "2025-10-30T17:07:39.641484Z",
     "shell.execute_reply": "2025-10-30T17:07:39.640773Z"
    }
   },
   "outputs": [
    {
     "name": "stdout",
     "output_type": "stream",
     "text": [
      "AB count before one binding event: 2\n",
      "AB count after one binding event: 3\n"
     ]
    }
   ],
   "source": [
    "from kappybara.rule import KappaRule\n",
    "\n",
    "print(\"AB count before one binding event:\", len(mixture.embeddings(complex)))\n",
    "\n",
    "bind = KappaRule.from_kappa(\"A(x[.]), B(x[.]) -> A(x[1]), B(x[1]) @ 1\")\n",
    "\n",
    "# Track the components on the left-hand side of the rule\n",
    "for component in bind.left.components:\n",
    "    mixture.track_component(component)\n",
    "\n",
    "update = bind.select(mixture)\n",
    "mixture.apply_update(update)\n",
    "\n",
    "mixture.track_component(complex)\n",
    "print(\"AB count after one binding event:\", len(mixture.embeddings(complex)))"
   ]
  },
  {
   "cell_type": "markdown",
   "metadata": {},
   "source": [
    "## Systems\n",
    "\n",
    "A system bundles a mixture with rules and observables and is used for simulation.\n",
    "Start with the reversible binding system in the Examples gallery to see how the API works at this highest level."
   ]
  }
 ],
 "metadata": {
  "kernelspec": {
   "display_name": "standard",
   "language": "python",
   "name": "python3"
  },
  "language_info": {
   "codemirror_mode": {
    "name": "ipython",
    "version": 3
   },
   "file_extension": ".py",
   "mimetype": "text/x-python",
   "name": "python",
   "nbconvert_exporter": "python",
   "pygments_lexer": "ipython3",
   "version": "3.12.11"
  }
 },
 "nbformat": 4,
 "nbformat_minor": 2
}
