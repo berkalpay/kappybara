{
 "cells": [
  {
   "cell_type": "markdown",
   "metadata": {},
   "source": [
    "# The prozone effect\n",
    "\n",
    "The prozone effect, also called the hook effect, refers to when the abundance of a molecular complex first increases then decreases as the relative concentration of a constituent molecule `E` increases.\n",
    "In this example, we will say that a complex is composed of an `L` molecule, an `M` molecule, and an `E` molecule, which connects the former two together."
   ]
  },
  {
   "cell_type": "code",
   "execution_count": 1,
   "metadata": {
    "execution": {
     "iopub.execute_input": "2025-10-22T15:59:12.757724Z",
     "iopub.status.busy": "2025-10-22T15:59:12.757514Z",
     "iopub.status.idle": "2025-10-22T15:59:12.761260Z",
     "shell.execute_reply": "2025-10-22T15:59:12.760481Z"
    },
    "nbsphinx": "hidden"
   },
   "outputs": [],
   "source": [
    "import random\n",
    "random.seed(0)"
   ]
  },
  {
   "cell_type": "code",
   "execution_count": 2,
   "metadata": {
    "execution": {
     "iopub.execute_input": "2025-10-22T15:59:12.763222Z",
     "iopub.status.busy": "2025-10-22T15:59:12.763002Z",
     "iopub.status.idle": "2025-10-22T15:59:13.684124Z",
     "shell.execute_reply": "2025-10-22T15:59:13.683118Z"
    }
   },
   "outputs": [],
   "source": [
    "from kappybara.system import System\n",
    "\n",
    "system = System.from_ka(\n",
    "    \"\"\"\n",
    "    %init: 100 L(e[.])\n",
    "    %init: 100 M(e[.])\n",
    "\n",
    "    %obs: 'E' |E()|\n",
    "    %obs: 'Incomplete complexes' |E(l[_], m[.])| + |E(l[.], m[_])|\n",
    "    %obs: 'Complete complexes' |E(l[_], m[_])|\n",
    "\n",
    "    E(l[.]), L(e[.]) <-> E(l[1]), L(e[1]) @ 1, 1  // Bind L to E\n",
    "    E(m[.]), M(e[.]) <-> E(m[1]), M(e[1]) @ 1, 1  // Bind M to E\n",
    "    . -> E(l[.], m[.]) @ 1  // Inflow of E\n",
    "    \"\"\"\n",
    ")"
   ]
  },
  {
   "cell_type": "markdown",
   "metadata": {},
   "source": [
    "We've set up the system so that there's no `E` to start but that it flows in at a constant stochastic rate.\n",
    "Let's now simulate while tracking the corresponding number of complexes:"
   ]
  },
  {
   "cell_type": "code",
   "execution_count": 3,
   "metadata": {
    "execution": {
     "iopub.execute_input": "2025-10-22T15:59:13.686014Z",
     "iopub.status.busy": "2025-10-22T15:59:13.685737Z",
     "iopub.status.idle": "2025-10-22T15:59:14.042714Z",
     "shell.execute_reply": "2025-10-22T15:59:14.041767Z"
    }
   },
   "outputs": [
    {
     "ename": "AttributeError",
     "evalue": "'NoneType' object has no attribute 'interface'",
     "output_type": "error",
     "traceback": [
      "\u001b[31m---------------------------------------------------------------------------\u001b[39m",
      "\u001b[31mAttributeError\u001b[39m                            Traceback (most recent call last)",
      "\u001b[36mCell\u001b[39m\u001b[36m \u001b[39m\u001b[32mIn[3]\u001b[39m\u001b[32m, line 2\u001b[39m\n\u001b[32m      1\u001b[39m \u001b[38;5;28;01mwhile\u001b[39;00m system.time < \u001b[32m5\u001b[39m * \u001b[32m10\u001b[39m ** \u001b[32m2\u001b[39m:\n\u001b[32m----> \u001b[39m\u001b[32m2\u001b[39m     \u001b[43msystem\u001b[49m\u001b[43m.\u001b[49m\u001b[43mupdate\u001b[49m\u001b[43m(\u001b[49m\u001b[43m)\u001b[49m\n\u001b[32m      3\u001b[39m system.monitor.plot();\n",
      "\u001b[36mFile \u001b[39m\u001b[32m/opt/hostedtoolcache/Python/3.12.11/x64/lib/python3.12/site-packages/kappybara/system.py:475\u001b[39m, in \u001b[36mSystem.update\u001b[39m\u001b[34m(self)\u001b[39m\n\u001b[32m    473\u001b[39m \u001b[38;5;28;01mdef\u001b[39;00m\u001b[38;5;250m \u001b[39m\u001b[34mupdate\u001b[39m(\u001b[38;5;28mself\u001b[39m) -> \u001b[38;5;28;01mNone\u001b[39;00m:\n\u001b[32m    474\u001b[39m \u001b[38;5;250m    \u001b[39m\u001b[33;03m\"\"\"Perform one simulation step.\"\"\"\u001b[39;00m\n\u001b[32m--> \u001b[39m\u001b[32m475\u001b[39m     \u001b[38;5;28;43mself\u001b[39;49m\u001b[43m.\u001b[49m\u001b[43mwait\u001b[49m\u001b[43m(\u001b[49m\u001b[43m)\u001b[49m\n\u001b[32m    476\u001b[39m     \u001b[38;5;28;01mif\u001b[39;00m (rule := \u001b[38;5;28mself\u001b[39m.choose_rule()) \u001b[38;5;129;01mis\u001b[39;00m \u001b[38;5;129;01mnot\u001b[39;00m \u001b[38;5;28;01mNone\u001b[39;00m:\n\u001b[32m    477\u001b[39m         \u001b[38;5;28mself\u001b[39m.apply_rule(rule)\n",
      "\u001b[36mFile \u001b[39m\u001b[32m/opt/hostedtoolcache/Python/3.12.11/x64/lib/python3.12/site-packages/kappybara/system.py:439\u001b[39m, in \u001b[36mSystem.wait\u001b[39m\u001b[34m(self)\u001b[39m\n\u001b[32m    433\u001b[39m \u001b[38;5;250m\u001b[39m\u001b[33;03m\"\"\"Advance simulation time according to exponential distribution.\u001b[39;00m\n\u001b[32m    434\u001b[39m \n\u001b[32m    435\u001b[39m \u001b[33;03mRaises:\u001b[39;00m\n\u001b[32m    436\u001b[39m \u001b[33;03m    RuntimeWarning: If system has no reactivity (infinite wait time).\u001b[39;00m\n\u001b[32m    437\u001b[39m \u001b[33;03m\"\"\"\u001b[39;00m\n\u001b[32m    438\u001b[39m \u001b[38;5;28;01mtry\u001b[39;00m:\n\u001b[32m--> \u001b[39m\u001b[32m439\u001b[39m     \u001b[38;5;28mself\u001b[39m.time += random.expovariate(\u001b[38;5;28;43mself\u001b[39;49m\u001b[43m.\u001b[49m\u001b[43mreactivity\u001b[49m)\n\u001b[32m    440\u001b[39m \u001b[38;5;28;01mexcept\u001b[39;00m \u001b[38;5;167;01mZeroDivisionError\u001b[39;00m:\n\u001b[32m    441\u001b[39m     warnings.warn(\n\u001b[32m    442\u001b[39m         \u001b[33m\"\u001b[39m\u001b[33msystem has no reactivity: infinite wait time\u001b[39m\u001b[33m\"\u001b[39m, \u001b[38;5;167;01mRuntimeWarning\u001b[39;00m\n\u001b[32m    443\u001b[39m     )\n",
      "\u001b[36mFile \u001b[39m\u001b[32m/opt/hostedtoolcache/Python/3.12.11/x64/lib/python3.12/site-packages/kappybara/system.py:430\u001b[39m, in \u001b[36mSystem.reactivity\u001b[39m\u001b[34m(self)\u001b[39m\n\u001b[32m    423\u001b[39m \u001b[38;5;129m@property\u001b[39m\n\u001b[32m    424\u001b[39m \u001b[38;5;28;01mdef\u001b[39;00m\u001b[38;5;250m \u001b[39m\u001b[34mreactivity\u001b[39m(\u001b[38;5;28mself\u001b[39m) -> \u001b[38;5;28mfloat\u001b[39m:\n\u001b[32m    425\u001b[39m \u001b[38;5;250m    \u001b[39m\u001b[33;03m\"\"\"The total reactivity of the system.\u001b[39;00m\n\u001b[32m    426\u001b[39m \n\u001b[32m    427\u001b[39m \u001b[33;03m    Returns:\u001b[39;00m\n\u001b[32m    428\u001b[39m \u001b[33;03m        Sum of all rule reactivities.\u001b[39;00m\n\u001b[32m    429\u001b[39m \u001b[33;03m    \"\"\"\u001b[39;00m\n\u001b[32m--> \u001b[39m\u001b[32m430\u001b[39m     \u001b[38;5;28;01mreturn\u001b[39;00m \u001b[38;5;28msum\u001b[39m(\u001b[38;5;28;43mself\u001b[39;49m\u001b[43m.\u001b[49m\u001b[43mrule_reactivities\u001b[49m)\n",
      "\u001b[36mFile \u001b[39m\u001b[32m/opt/hostedtoolcache/Python/3.12.11/x64/lib/python3.12/functools.py:998\u001b[39m, in \u001b[36mcached_property.__get__\u001b[39m\u001b[34m(self, instance, owner)\u001b[39m\n\u001b[32m    996\u001b[39m val = cache.get(\u001b[38;5;28mself\u001b[39m.attrname, _NOT_FOUND)\n\u001b[32m    997\u001b[39m \u001b[38;5;28;01mif\u001b[39;00m val \u001b[38;5;129;01mis\u001b[39;00m _NOT_FOUND:\n\u001b[32m--> \u001b[39m\u001b[32m998\u001b[39m     val = \u001b[38;5;28;43mself\u001b[39;49m\u001b[43m.\u001b[49m\u001b[43mfunc\u001b[49m\u001b[43m(\u001b[49m\u001b[43minstance\u001b[49m\u001b[43m)\u001b[49m\n\u001b[32m    999\u001b[39m     \u001b[38;5;28;01mtry\u001b[39;00m:\n\u001b[32m   1000\u001b[39m         cache[\u001b[38;5;28mself\u001b[39m.attrname] = val\n",
      "\u001b[36mFile \u001b[39m\u001b[32m/opt/hostedtoolcache/Python/3.12.11/x64/lib/python3.12/site-packages/kappybara/system.py:421\u001b[39m, in \u001b[36mSystem.rule_reactivities\u001b[39m\u001b[34m(self)\u001b[39m\n\u001b[32m    414\u001b[39m \u001b[38;5;129m@cached_property\u001b[39m\n\u001b[32m    415\u001b[39m \u001b[38;5;28;01mdef\u001b[39;00m\u001b[38;5;250m \u001b[39m\u001b[34mrule_reactivities\u001b[39m(\u001b[38;5;28mself\u001b[39m) -> \u001b[38;5;28mlist\u001b[39m[\u001b[38;5;28mfloat\u001b[39m]:\n\u001b[32m    416\u001b[39m \u001b[38;5;250m    \u001b[39m\u001b[33;03m\"\"\"The reactivity of each rule in the system.\u001b[39;00m\n\u001b[32m    417\u001b[39m \n\u001b[32m    418\u001b[39m \u001b[33;03m    Returns:\u001b[39;00m\n\u001b[32m    419\u001b[39m \u001b[33;03m        List of reactivities corresponding to system rules.\u001b[39;00m\n\u001b[32m    420\u001b[39m \u001b[33;03m    \"\"\"\u001b[39;00m\n\u001b[32m--> \u001b[39m\u001b[32m421\u001b[39m     \u001b[38;5;28;01mreturn\u001b[39;00m [\u001b[43mrule\u001b[49m\u001b[43m.\u001b[49m\u001b[43mreactivity\u001b[49m\u001b[43m(\u001b[49m\u001b[38;5;28;43mself\u001b[39;49m\u001b[43m)\u001b[49m \u001b[38;5;28;01mfor\u001b[39;00m rule \u001b[38;5;129;01min\u001b[39;00m \u001b[38;5;28mself\u001b[39m.rules.values()]\n",
      "\u001b[36mFile \u001b[39m\u001b[32m/opt/hostedtoolcache/Python/3.12.11/x64/lib/python3.12/site-packages/kappybara/rule.py:186\u001b[39m, in \u001b[36mKappaRule.reactivity\u001b[39m\u001b[34m(self, system)\u001b[39m\n\u001b[32m    175\u001b[39m \u001b[38;5;28;01mdef\u001b[39;00m\u001b[38;5;250m \u001b[39m\u001b[34mreactivity\u001b[39m(\u001b[38;5;28mself\u001b[39m, system: \u001b[33m\"\u001b[39m\u001b[33mSystem\u001b[39m\u001b[33m\"\u001b[39m) -> \u001b[38;5;28mfloat\u001b[39m:\n\u001b[32m    176\u001b[39m \u001b[38;5;250m    \u001b[39m\u001b[33;03m\"\"\"Calculate the total reactivity of this rule in the given system.\u001b[39;00m\n\u001b[32m    177\u001b[39m \n\u001b[32m    178\u001b[39m \u001b[33;03m    Args:\u001b[39;00m\n\u001b[32m   (...)\u001b[39m\u001b[32m    183\u001b[39m \u001b[33;03m        for rule symmetry.\u001b[39;00m\n\u001b[32m    184\u001b[39m \u001b[33;03m    \"\"\"\u001b[39;00m\n\u001b[32m    185\u001b[39m     \u001b[38;5;28;01mreturn\u001b[39;00m (\n\u001b[32m--> \u001b[39m\u001b[32m186\u001b[39m         \u001b[38;5;28mself\u001b[39m.n_embeddings(system.mixture) // \u001b[38;5;28;43mself\u001b[39;49m\u001b[43m.\u001b[49m\u001b[43mn_symmetries\u001b[49m * \u001b[38;5;28mself\u001b[39m.rate(system)\n\u001b[32m    187\u001b[39m     )\n",
      "\u001b[36mFile \u001b[39m\u001b[32m/opt/hostedtoolcache/Python/3.12.11/x64/lib/python3.12/functools.py:998\u001b[39m, in \u001b[36mcached_property.__get__\u001b[39m\u001b[34m(self, instance, owner)\u001b[39m\n\u001b[32m    996\u001b[39m val = cache.get(\u001b[38;5;28mself\u001b[39m.attrname, _NOT_FOUND)\n\u001b[32m    997\u001b[39m \u001b[38;5;28;01mif\u001b[39;00m val \u001b[38;5;129;01mis\u001b[39;00m _NOT_FOUND:\n\u001b[32m--> \u001b[39m\u001b[32m998\u001b[39m     val = \u001b[38;5;28;43mself\u001b[39;49m\u001b[43m.\u001b[49m\u001b[43mfunc\u001b[49m\u001b[43m(\u001b[49m\u001b[43minstance\u001b[49m\u001b[43m)\u001b[49m\n\u001b[32m    999\u001b[39m     \u001b[38;5;28;01mtry\u001b[39;00m:\n\u001b[32m   1000\u001b[39m         cache[\u001b[38;5;28mself\u001b[39m.attrname] = val\n",
      "\u001b[36mFile \u001b[39m\u001b[32m/opt/hostedtoolcache/Python/3.12.11/x64/lib/python3.12/site-packages/kappybara/rule.py:218\u001b[39m, in \u001b[36mKappaRule.n_symmetries\u001b[39m\u001b[34m(self)\u001b[39m\n\u001b[32m    215\u001b[39m     r_site.agent = r\n\u001b[32m    216\u001b[39m     r_site.partner = l_site\n\u001b[32m--> \u001b[39m\u001b[32m218\u001b[39m     \u001b[43ml\u001b[49m\u001b[43m.\u001b[49m\u001b[43minterface\u001b[49m[\u001b[33m\"\u001b[39m\u001b[33m__temp__\u001b[39m\u001b[33m\"\u001b[39m] = l_site\n\u001b[32m    219\u001b[39m     r.interface[\u001b[33m\"\u001b[39m\u001b[33m__temp__\u001b[39m\u001b[33m\"\u001b[39m] = r_site\n\u001b[32m    221\u001b[39m pattern = Pattern(left_agents + right_agents)\n",
      "\u001b[31mAttributeError\u001b[39m: 'NoneType' object has no attribute 'interface'"
     ]
    }
   ],
   "source": [
    "while system.time < 5 * 10 ** 2:\n",
    "    system.update()\n",
    "system.monitor.plot();"
   ]
  },
  {
   "cell_type": "markdown",
   "metadata": {},
   "source": [
    "As we introduce more `E`, at first more complexes can be formed but eventually there are so many `E` that the other components of the complex become more likely to bind separate `E` molecules.\n",
    "The result is that the full complex is less likely to form."
   ]
  }
 ],
 "metadata": {
  "kernelspec": {
   "display_name": "standard",
   "language": "python",
   "name": "python3"
  },
  "language_info": {
   "codemirror_mode": {
    "name": "ipython",
    "version": 3
   },
   "file_extension": ".py",
   "mimetype": "text/x-python",
   "name": "python",
   "nbconvert_exporter": "python",
   "pygments_lexer": "ipython3",
   "version": "3.12.11"
  }
 },
 "nbformat": 4,
 "nbformat_minor": 2
}
