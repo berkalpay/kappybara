{
 "cells": [
  {
   "cell_type": "markdown",
   "metadata": {},
   "source": [
    "# Reversible binding"
   ]
  },
  {
   "cell_type": "code",
   "execution_count": 1,
   "metadata": {
    "execution": {
     "iopub.execute_input": "2025-10-09T16:40:29.878147Z",
     "iopub.status.busy": "2025-10-09T16:40:29.877958Z",
     "iopub.status.idle": "2025-10-09T16:40:29.881264Z",
     "shell.execute_reply": "2025-10-09T16:40:29.880805Z"
    }
   },
   "outputs": [],
   "source": [
    "import random\n",
    "random.seed(0)"
   ]
  },
  {
   "cell_type": "markdown",
   "metadata": {},
   "source": [
    "We can initialize a system of a simple reversible binding interaction as follows:"
   ]
  },
  {
   "cell_type": "code",
   "execution_count": 2,
   "metadata": {
    "execution": {
     "iopub.execute_input": "2025-10-09T16:40:29.882945Z",
     "iopub.status.busy": "2025-10-09T16:40:29.882784Z",
     "iopub.status.idle": "2025-10-09T16:40:30.877903Z",
     "shell.execute_reply": "2025-10-09T16:40:30.877178Z"
    }
   },
   "outputs": [
    {
     "ename": "FileNotFoundError",
     "evalue": "[Errno 2] No such file or directory: '/opt/hostedtoolcache/Python/3.12.11/x64/lib/python3.12/site-packages/kappybara/kappa.lark'",
     "output_type": "error",
     "traceback": [
      "\u001b[31m---------------------------------------------------------------------------\u001b[39m",
      "\u001b[31mFileNotFoundError\u001b[39m                         Traceback (most recent call last)",
      "\u001b[36mCell\u001b[39m\u001b[36m \u001b[39m\u001b[32mIn[2]\u001b[39m\u001b[32m, line 3\u001b[39m\n\u001b[32m      1\u001b[39m \u001b[38;5;28;01mfrom\u001b[39;00m\u001b[38;5;250m \u001b[39m\u001b[34;01mkappybara\u001b[39;00m\u001b[34;01m.\u001b[39;00m\u001b[34;01msystem\u001b[39;00m\u001b[38;5;250m \u001b[39m\u001b[38;5;28;01mimport\u001b[39;00m System\n\u001b[32m----> \u001b[39m\u001b[32m3\u001b[39m system = \u001b[43mSystem\u001b[49m\u001b[43m.\u001b[49m\u001b[43mfrom_kappa\u001b[49m\u001b[43m(\u001b[49m\n\u001b[32m      4\u001b[39m \u001b[43m    \u001b[49m\u001b[43mmixture\u001b[49m\u001b[43m=\u001b[49m\u001b[43m{\u001b[49m\u001b[33;43m\"\u001b[39;49m\u001b[33;43mA(x[.])\u001b[39;49m\u001b[33;43m\"\u001b[39;49m\u001b[43m:\u001b[49m\u001b[43m \u001b[49m\u001b[32;43m100\u001b[39;49m\u001b[43m,\u001b[49m\u001b[43m \u001b[49m\u001b[33;43m\"\u001b[39;49m\u001b[33;43mB(x[.])\u001b[39;49m\u001b[33;43m\"\u001b[39;49m\u001b[43m:\u001b[49m\u001b[43m \u001b[49m\u001b[32;43m100\u001b[39;49m\u001b[43m}\u001b[49m\u001b[43m,\u001b[49m\n\u001b[32m      5\u001b[39m \u001b[43m    \u001b[49m\u001b[43mrules\u001b[49m\u001b[43m=\u001b[49m\u001b[43m[\u001b[49m\n\u001b[32m      6\u001b[39m \u001b[43m        \u001b[49m\u001b[33;43m\"\u001b[39;49m\u001b[33;43mA(x[.]), B(x[.]) -> A(x[1]), B(x[1]) @ 1\u001b[39;49m\u001b[33;43m\"\u001b[39;49m\u001b[43m,\u001b[49m\n\u001b[32m      7\u001b[39m \u001b[43m        \u001b[49m\u001b[33;43m\"\u001b[39;49m\u001b[33;43mA(x[1]), B(x[1]) -> A(x[.]), B(x[.]) @ 1\u001b[39;49m\u001b[33;43m\"\u001b[39;49m\u001b[43m,\u001b[49m\n\u001b[32m      8\u001b[39m \u001b[43m    \u001b[49m\u001b[43m]\u001b[49m\u001b[43m,\u001b[49m\n\u001b[32m      9\u001b[39m \u001b[43m    \u001b[49m\u001b[43mobservables\u001b[49m\u001b[43m=\u001b[49m\u001b[43m{\u001b[49m\u001b[33;43m\"\u001b[39;49m\u001b[33;43mAB\u001b[39;49m\u001b[33;43m\"\u001b[39;49m\u001b[43m:\u001b[49m\u001b[43m \u001b[49m\u001b[33;43m\"\u001b[39;49m\u001b[33;43m|A(x[1]), B(x[1])|\u001b[39;49m\u001b[33;43m\"\u001b[39;49m\u001b[43m}\u001b[49m\u001b[43m,\u001b[49m\n\u001b[32m     10\u001b[39m \u001b[43m)\u001b[49m\n",
      "\u001b[36mFile \u001b[39m\u001b[32m/opt/hostedtoolcache/Python/3.12.11/x64/lib/python3.12/site-packages/kappybara/system.py:179\u001b[39m, in \u001b[36mSystem.from_kappa\u001b[39m\u001b[34m(cls, mixture, rules, observables, variables, *args, **kwargs)\u001b[39m\n\u001b[32m    177\u001b[39m \u001b[38;5;28;01mif\u001b[39;00m rules \u001b[38;5;129;01mis\u001b[39;00m \u001b[38;5;129;01mnot\u001b[39;00m \u001b[38;5;28;01mNone\u001b[39;00m:\n\u001b[32m    178\u001b[39m     \u001b[38;5;28;01mfor\u001b[39;00m rule \u001b[38;5;129;01min\u001b[39;00m rules:\n\u001b[32m--> \u001b[39m\u001b[32m179\u001b[39m         real_rules.extend(\u001b[43mKappaRule\u001b[49m\u001b[43m.\u001b[49m\u001b[43mlist_from_kappa\u001b[49m\u001b[43m(\u001b[49m\u001b[43mrule\u001b[49m\u001b[43m)\u001b[49m)\n\u001b[32m    181\u001b[39m \u001b[38;5;28;01mif\u001b[39;00m observables \u001b[38;5;129;01mis\u001b[39;00m \u001b[38;5;28;01mNone\u001b[39;00m:\n\u001b[32m    182\u001b[39m     real_observables = {}\n",
      "\u001b[36mFile \u001b[39m\u001b[32m/opt/hostedtoolcache/Python/3.12.11/x64/lib/python3.12/site-packages/kappybara/rule.py:122\u001b[39m, in \u001b[36mKappaRule.list_from_kappa\u001b[39m\u001b[34m(cls, kappa_str)\u001b[39m\n\u001b[32m    109\u001b[39m \u001b[38;5;129m@classmethod\u001b[39m\n\u001b[32m    110\u001b[39m \u001b[38;5;28;01mdef\u001b[39;00m\u001b[38;5;250m \u001b[39m\u001b[34mlist_from_kappa\u001b[39m(\u001b[38;5;28mcls\u001b[39m, kappa_str: \u001b[38;5;28mstr\u001b[39m) -> \u001b[38;5;28mlist\u001b[39m[Self]:\n\u001b[32m    111\u001b[39m \u001b[38;5;250m    \u001b[39m\u001b[33;03m\"\"\"Parse Kappa string into a list of rules.\u001b[39;00m\n\u001b[32m    112\u001b[39m \n\u001b[32m    113\u001b[39m \u001b[33;03m    Note:\u001b[39;00m\n\u001b[32m   (...)\u001b[39m\u001b[32m    120\u001b[39m \u001b[33;03m        List of parsed rules.\u001b[39;00m\n\u001b[32m    121\u001b[39m \u001b[33;03m    \"\"\"\u001b[39;00m\n\u001b[32m--> \u001b[39m\u001b[32m122\u001b[39m     \u001b[38;5;28;01mfrom\u001b[39;00m\u001b[38;5;250m \u001b[39m\u001b[34;01mkappybara\u001b[39;00m\u001b[34;01m.\u001b[39;00m\u001b[34;01mgrammar\u001b[39;00m\u001b[38;5;250m \u001b[39m\u001b[38;5;28;01mimport\u001b[39;00m kappa_parser, RuleBuilder\n\u001b[32m    124\u001b[39m     input_tree = kappa_parser.parse(kappa_str)\n\u001b[32m    125\u001b[39m     \u001b[38;5;28;01massert\u001b[39;00m input_tree.data == \u001b[33m\"\u001b[39m\u001b[33mkappa_input\u001b[39m\u001b[33m\"\u001b[39m\n",
      "\u001b[36mFile \u001b[39m\u001b[32m/opt/hostedtoolcache/Python/3.12.11/x64/lib/python3.12/site-packages/kappybara/grammar.py:40\u001b[39m\n\u001b[32m     36\u001b[39m         \u001b[38;5;28;01mwith\u001b[39;00m \u001b[38;5;28mopen\u001b[39m(filepath, \u001b[33m\"\u001b[39m\u001b[33mr\u001b[39m\u001b[33m\"\u001b[39m) \u001b[38;5;28;01mas\u001b[39;00m file:\n\u001b[32m     37\u001b[39m             \u001b[38;5;28;01mreturn\u001b[39;00m \u001b[38;5;28mself\u001b[39m._parser.parse(file.read())\n\u001b[32m---> \u001b[39m\u001b[32m40\u001b[39m kappa_parser = \u001b[43mKappaParser\u001b[49m\u001b[43m(\u001b[49m\u001b[43m)\u001b[49m\n\u001b[32m     43\u001b[39m \u001b[38;5;129m@dataclass\u001b[39m\n\u001b[32m     44\u001b[39m \u001b[38;5;28;01mclass\u001b[39;00m\u001b[38;5;250m \u001b[39m\u001b[34;01mSiteBuilder\u001b[39;00m(Visitor):\n\u001b[32m     45\u001b[39m \u001b[38;5;250m    \u001b[39m\u001b[33;03m\"\"\"Builds Site objects from Lark parse trees.\u001b[39;00m\n\u001b[32m     46\u001b[39m \n\u001b[32m     47\u001b[39m \u001b[33;03m    Attributes:\u001b[39;00m\n\u001b[32m   (...)\u001b[39m\u001b[32m     50\u001b[39m \u001b[33;03m        parsed_partner: Partner specification for the site.\u001b[39;00m\n\u001b[32m     51\u001b[39m \u001b[33;03m    \"\"\"\u001b[39;00m\n",
      "\u001b[36mFile \u001b[39m\u001b[32m/opt/hostedtoolcache/Python/3.12.11/x64/lib/python3.12/site-packages/kappybara/grammar.py:20\u001b[39m, in \u001b[36mKappaParser.__init__\u001b[39m\u001b[34m(self)\u001b[39m\n\u001b[32m     18\u001b[39m \u001b[38;5;28;01mdef\u001b[39;00m\u001b[38;5;250m \u001b[39m\u001b[34m__init__\u001b[39m(\u001b[38;5;28mself\u001b[39m):\n\u001b[32m     19\u001b[39m \u001b[38;5;250m    \u001b[39m\u001b[33;03m\"\"\"Initialize the Lark parser with Kappa grammar.\"\"\"\u001b[39;00m\n\u001b[32m---> \u001b[39m\u001b[32m20\u001b[39m     \u001b[38;5;28mself\u001b[39m._parser = \u001b[43mLark\u001b[49m\u001b[43m.\u001b[49m\u001b[43mopen\u001b[49m\u001b[43m(\u001b[49m\n\u001b[32m     21\u001b[39m \u001b[43m        \u001b[49m\u001b[38;5;28;43mstr\u001b[39;49m\u001b[43m(\u001b[49m\u001b[43mPath\u001b[49m\u001b[43m(\u001b[49m\u001b[34;43m__file__\u001b[39;49m\u001b[43m)\u001b[49m\u001b[43m.\u001b[49m\u001b[43mparent\u001b[49m\u001b[43m \u001b[49m\u001b[43m/\u001b[49m\u001b[43m \u001b[49m\u001b[33;43m\"\u001b[39;49m\u001b[33;43mkappa.lark\u001b[39;49m\u001b[33;43m\"\u001b[39;49m\u001b[43m)\u001b[49m\u001b[43m,\u001b[49m\n\u001b[32m     22\u001b[39m \u001b[43m        \u001b[49m\u001b[43mrel_to\u001b[49m\u001b[43m=\u001b[49m\u001b[34;43m__file__\u001b[39;49m\u001b[43m,\u001b[49m\n\u001b[32m     23\u001b[39m \u001b[43m        \u001b[49m\u001b[43mparser\u001b[49m\u001b[43m=\u001b[49m\u001b[33;43m\"\u001b[39;49m\u001b[33;43mearley\u001b[39;49m\u001b[33;43m\"\u001b[39;49m\u001b[43m,\u001b[49m\n\u001b[32m     24\u001b[39m \u001b[43m        \u001b[49m\u001b[38;5;66;43;03m# The basic lexer isn't required and isn't usually recommended\u001b[39;49;00m\n\u001b[32m     25\u001b[39m \u001b[43m        \u001b[49m\u001b[43mlexer\u001b[49m\u001b[43m=\u001b[49m\u001b[33;43m\"\u001b[39;49m\u001b[33;43mdynamic\u001b[39;49m\u001b[33;43m\"\u001b[39;49m\u001b[43m,\u001b[49m\n\u001b[32m     26\u001b[39m \u001b[43m        \u001b[49m\u001b[43mstart\u001b[49m\u001b[43m=\u001b[49m\u001b[33;43m\"\u001b[39;49m\u001b[33;43mkappa_input\u001b[39;49m\u001b[33;43m\"\u001b[39;49m\u001b[43m,\u001b[49m\n\u001b[32m     27\u001b[39m \u001b[43m        \u001b[49m\u001b[38;5;66;43;03m# Disabling these slightly improves speed\u001b[39;49;00m\n\u001b[32m     28\u001b[39m \u001b[43m        \u001b[49m\u001b[43mpropagate_positions\u001b[49m\u001b[43m=\u001b[49m\u001b[38;5;28;43;01mFalse\u001b[39;49;00m\u001b[43m,\u001b[49m\n\u001b[32m     29\u001b[39m \u001b[43m        \u001b[49m\u001b[43mmaybe_placeholders\u001b[49m\u001b[43m=\u001b[49m\u001b[38;5;28;43;01mFalse\u001b[39;49;00m\u001b[43m,\u001b[49m\n\u001b[32m     30\u001b[39m \u001b[43m    \u001b[49m\u001b[43m)\u001b[49m\n",
      "\u001b[36mFile \u001b[39m\u001b[32m/opt/hostedtoolcache/Python/3.12.11/x64/lib/python3.12/site-packages/lark/lark.py:593\u001b[39m, in \u001b[36mLark.open\u001b[39m\u001b[34m(cls, grammar_filename, rel_to, **options)\u001b[39m\n\u001b[32m    591\u001b[39m     basepath = os.path.dirname(rel_to)\n\u001b[32m    592\u001b[39m     grammar_filename = os.path.join(basepath, grammar_filename)\n\u001b[32m--> \u001b[39m\u001b[32m593\u001b[39m \u001b[38;5;28;01mwith\u001b[39;00m \u001b[38;5;28;43mopen\u001b[39;49m\u001b[43m(\u001b[49m\u001b[43mgrammar_filename\u001b[49m\u001b[43m,\u001b[49m\u001b[43m \u001b[49m\u001b[43mencoding\u001b[49m\u001b[43m=\u001b[49m\u001b[33;43m'\u001b[39;49m\u001b[33;43mutf8\u001b[39;49m\u001b[33;43m'\u001b[39;49m\u001b[43m)\u001b[49m \u001b[38;5;28;01mas\u001b[39;00m f:\n\u001b[32m    594\u001b[39m     \u001b[38;5;28;01mreturn\u001b[39;00m \u001b[38;5;28mcls\u001b[39m(f, **options)\n",
      "\u001b[31mFileNotFoundError\u001b[39m: [Errno 2] No such file or directory: '/opt/hostedtoolcache/Python/3.12.11/x64/lib/python3.12/site-packages/kappybara/kappa.lark'"
     ]
    }
   ],
   "source": [
    "from kappybara.system import System\n",
    "\n",
    "system = System.from_kappa(\n",
    "    mixture={\"A(x[.])\": 100, \"B(x[.])\": 100},\n",
    "    rules=[\n",
    "        \"A(x[.]), B(x[.]) -> A(x[1]), B(x[1]) @ 1\",\n",
    "        \"A(x[1]), B(x[1]) -> A(x[.]), B(x[.]) @ 1\",\n",
    "    ],\n",
    "    observables={\"AB\": \"|A(x[1]), B(x[1])|\"},\n",
    ")"
   ]
  },
  {
   "cell_type": "markdown",
   "metadata": {},
   "source": [
    "or equivalently from a .ka-style string:"
   ]
  },
  {
   "cell_type": "code",
   "execution_count": 3,
   "metadata": {
    "execution": {
     "iopub.execute_input": "2025-10-09T16:40:30.880190Z",
     "iopub.status.busy": "2025-10-09T16:40:30.880003Z",
     "iopub.status.idle": "2025-10-09T16:40:31.010851Z",
     "shell.execute_reply": "2025-10-09T16:40:31.010302Z"
    }
   },
   "outputs": [
    {
     "ename": "FileNotFoundError",
     "evalue": "[Errno 2] No such file or directory: '/opt/hostedtoolcache/Python/3.12.11/x64/lib/python3.12/site-packages/kappybara/kappa.lark'",
     "output_type": "error",
     "traceback": [
      "\u001b[31m---------------------------------------------------------------------------\u001b[39m",
      "\u001b[31mFileNotFoundError\u001b[39m                         Traceback (most recent call last)",
      "\u001b[36mCell\u001b[39m\u001b[36m \u001b[39m\u001b[32mIn[3]\u001b[39m\u001b[32m, line 1\u001b[39m\n\u001b[32m----> \u001b[39m\u001b[32m1\u001b[39m system = \u001b[43mSystem\u001b[49m\u001b[43m.\u001b[49m\u001b[43mfrom_ka\u001b[49m\u001b[43m(\u001b[49m\n\u001b[32m      2\u001b[39m \u001b[38;5;250;43m    \u001b[39;49m\u001b[33;43;03m\"\"\"\u001b[39;49;00m\n\u001b[32m      3\u001b[39m \u001b[33;43;03m    %init: 100 A(x[.])\u001b[39;49;00m\n\u001b[32m      4\u001b[39m \u001b[33;43;03m    %init: 100 B(x[.])\u001b[39;49;00m\n\u001b[32m      5\u001b[39m \n\u001b[32m      6\u001b[39m \u001b[33;43;03m    %obs: 'AB' |A(x[1]), B(x[1])|\u001b[39;49;00m\n\u001b[32m      7\u001b[39m \n\u001b[32m      8\u001b[39m \u001b[33;43;03m    A(x[.]), B(x[.]) <-> A(x[1]), B(x[1]) @ 1, 1\u001b[39;49;00m\n\u001b[32m      9\u001b[39m \u001b[33;43;03m    \"\"\"\u001b[39;49;00m\n\u001b[32m     10\u001b[39m \u001b[43m)\u001b[49m\n",
      "\u001b[36mFile \u001b[39m\u001b[32m/opt/hostedtoolcache/Python/3.12.11/x64/lib/python3.12/site-packages/kappybara/system.py:64\u001b[39m, in \u001b[36mSystem.from_ka\u001b[39m\u001b[34m(cls, ka_str)\u001b[39m\n\u001b[32m     54\u001b[39m \u001b[38;5;129m@classmethod\u001b[39m\n\u001b[32m     55\u001b[39m \u001b[38;5;28;01mdef\u001b[39;00m\u001b[38;5;250m \u001b[39m\u001b[34mfrom_ka\u001b[39m(\u001b[38;5;28mcls\u001b[39m, ka_str: \u001b[38;5;28mstr\u001b[39m) -> Self:\n\u001b[32m     56\u001b[39m \u001b[38;5;250m    \u001b[39m\u001b[33;03m\"\"\"Create a System from a Kappa (.ka style) string.\u001b[39;00m\n\u001b[32m     57\u001b[39m \n\u001b[32m     58\u001b[39m \u001b[33;03m    Args:\u001b[39;00m\n\u001b[32m   (...)\u001b[39m\u001b[32m     62\u001b[39m \u001b[33;03m        A new System instance parsed from the string.\u001b[39;00m\n\u001b[32m     63\u001b[39m \u001b[33;03m    \"\"\"\u001b[39;00m\n\u001b[32m---> \u001b[39m\u001b[32m64\u001b[39m     \u001b[38;5;28;01mfrom\u001b[39;00m\u001b[38;5;250m \u001b[39m\u001b[34;01mkappybara\u001b[39;00m\u001b[34;01m.\u001b[39;00m\u001b[34;01mgrammar\u001b[39;00m\u001b[38;5;250m \u001b[39m\u001b[38;5;28;01mimport\u001b[39;00m (\n\u001b[32m     65\u001b[39m         kappa_parser,\n\u001b[32m     66\u001b[39m         parse_tree_to_expression,\n\u001b[32m     67\u001b[39m         PatternBuilder,\n\u001b[32m     68\u001b[39m         RuleBuilder,\n\u001b[32m     69\u001b[39m     )\n\u001b[32m     71\u001b[39m     input_tree = kappa_parser.parse(ka_str)\n\u001b[32m     72\u001b[39m     \u001b[38;5;28;01massert\u001b[39;00m input_tree.data == \u001b[33m\"\u001b[39m\u001b[33mkappa_input\u001b[39m\u001b[33m\"\u001b[39m\n",
      "\u001b[36mFile \u001b[39m\u001b[32m/opt/hostedtoolcache/Python/3.12.11/x64/lib/python3.12/site-packages/kappybara/grammar.py:40\u001b[39m\n\u001b[32m     36\u001b[39m         \u001b[38;5;28;01mwith\u001b[39;00m \u001b[38;5;28mopen\u001b[39m(filepath, \u001b[33m\"\u001b[39m\u001b[33mr\u001b[39m\u001b[33m\"\u001b[39m) \u001b[38;5;28;01mas\u001b[39;00m file:\n\u001b[32m     37\u001b[39m             \u001b[38;5;28;01mreturn\u001b[39;00m \u001b[38;5;28mself\u001b[39m._parser.parse(file.read())\n\u001b[32m---> \u001b[39m\u001b[32m40\u001b[39m kappa_parser = \u001b[43mKappaParser\u001b[49m\u001b[43m(\u001b[49m\u001b[43m)\u001b[49m\n\u001b[32m     43\u001b[39m \u001b[38;5;129m@dataclass\u001b[39m\n\u001b[32m     44\u001b[39m \u001b[38;5;28;01mclass\u001b[39;00m\u001b[38;5;250m \u001b[39m\u001b[34;01mSiteBuilder\u001b[39;00m(Visitor):\n\u001b[32m     45\u001b[39m \u001b[38;5;250m    \u001b[39m\u001b[33;03m\"\"\"Builds Site objects from Lark parse trees.\u001b[39;00m\n\u001b[32m     46\u001b[39m \n\u001b[32m     47\u001b[39m \u001b[33;03m    Attributes:\u001b[39;00m\n\u001b[32m   (...)\u001b[39m\u001b[32m     50\u001b[39m \u001b[33;03m        parsed_partner: Partner specification for the site.\u001b[39;00m\n\u001b[32m     51\u001b[39m \u001b[33;03m    \"\"\"\u001b[39;00m\n",
      "\u001b[36mFile \u001b[39m\u001b[32m/opt/hostedtoolcache/Python/3.12.11/x64/lib/python3.12/site-packages/kappybara/grammar.py:20\u001b[39m, in \u001b[36mKappaParser.__init__\u001b[39m\u001b[34m(self)\u001b[39m\n\u001b[32m     18\u001b[39m \u001b[38;5;28;01mdef\u001b[39;00m\u001b[38;5;250m \u001b[39m\u001b[34m__init__\u001b[39m(\u001b[38;5;28mself\u001b[39m):\n\u001b[32m     19\u001b[39m \u001b[38;5;250m    \u001b[39m\u001b[33;03m\"\"\"Initialize the Lark parser with Kappa grammar.\"\"\"\u001b[39;00m\n\u001b[32m---> \u001b[39m\u001b[32m20\u001b[39m     \u001b[38;5;28mself\u001b[39m._parser = \u001b[43mLark\u001b[49m\u001b[43m.\u001b[49m\u001b[43mopen\u001b[49m\u001b[43m(\u001b[49m\n\u001b[32m     21\u001b[39m \u001b[43m        \u001b[49m\u001b[38;5;28;43mstr\u001b[39;49m\u001b[43m(\u001b[49m\u001b[43mPath\u001b[49m\u001b[43m(\u001b[49m\u001b[34;43m__file__\u001b[39;49m\u001b[43m)\u001b[49m\u001b[43m.\u001b[49m\u001b[43mparent\u001b[49m\u001b[43m \u001b[49m\u001b[43m/\u001b[49m\u001b[43m \u001b[49m\u001b[33;43m\"\u001b[39;49m\u001b[33;43mkappa.lark\u001b[39;49m\u001b[33;43m\"\u001b[39;49m\u001b[43m)\u001b[49m\u001b[43m,\u001b[49m\n\u001b[32m     22\u001b[39m \u001b[43m        \u001b[49m\u001b[43mrel_to\u001b[49m\u001b[43m=\u001b[49m\u001b[34;43m__file__\u001b[39;49m\u001b[43m,\u001b[49m\n\u001b[32m     23\u001b[39m \u001b[43m        \u001b[49m\u001b[43mparser\u001b[49m\u001b[43m=\u001b[49m\u001b[33;43m\"\u001b[39;49m\u001b[33;43mearley\u001b[39;49m\u001b[33;43m\"\u001b[39;49m\u001b[43m,\u001b[49m\n\u001b[32m     24\u001b[39m \u001b[43m        \u001b[49m\u001b[38;5;66;43;03m# The basic lexer isn't required and isn't usually recommended\u001b[39;49;00m\n\u001b[32m     25\u001b[39m \u001b[43m        \u001b[49m\u001b[43mlexer\u001b[49m\u001b[43m=\u001b[49m\u001b[33;43m\"\u001b[39;49m\u001b[33;43mdynamic\u001b[39;49m\u001b[33;43m\"\u001b[39;49m\u001b[43m,\u001b[49m\n\u001b[32m     26\u001b[39m \u001b[43m        \u001b[49m\u001b[43mstart\u001b[49m\u001b[43m=\u001b[49m\u001b[33;43m\"\u001b[39;49m\u001b[33;43mkappa_input\u001b[39;49m\u001b[33;43m\"\u001b[39;49m\u001b[43m,\u001b[49m\n\u001b[32m     27\u001b[39m \u001b[43m        \u001b[49m\u001b[38;5;66;43;03m# Disabling these slightly improves speed\u001b[39;49;00m\n\u001b[32m     28\u001b[39m \u001b[43m        \u001b[49m\u001b[43mpropagate_positions\u001b[49m\u001b[43m=\u001b[49m\u001b[38;5;28;43;01mFalse\u001b[39;49;00m\u001b[43m,\u001b[49m\n\u001b[32m     29\u001b[39m \u001b[43m        \u001b[49m\u001b[43mmaybe_placeholders\u001b[49m\u001b[43m=\u001b[49m\u001b[38;5;28;43;01mFalse\u001b[39;49;00m\u001b[43m,\u001b[49m\n\u001b[32m     30\u001b[39m \u001b[43m    \u001b[49m\u001b[43m)\u001b[49m\n",
      "\u001b[36mFile \u001b[39m\u001b[32m/opt/hostedtoolcache/Python/3.12.11/x64/lib/python3.12/site-packages/lark/lark.py:593\u001b[39m, in \u001b[36mLark.open\u001b[39m\u001b[34m(cls, grammar_filename, rel_to, **options)\u001b[39m\n\u001b[32m    591\u001b[39m     basepath = os.path.dirname(rel_to)\n\u001b[32m    592\u001b[39m     grammar_filename = os.path.join(basepath, grammar_filename)\n\u001b[32m--> \u001b[39m\u001b[32m593\u001b[39m \u001b[38;5;28;01mwith\u001b[39;00m \u001b[38;5;28;43mopen\u001b[39;49m\u001b[43m(\u001b[49m\u001b[43mgrammar_filename\u001b[49m\u001b[43m,\u001b[49m\u001b[43m \u001b[49m\u001b[43mencoding\u001b[49m\u001b[43m=\u001b[49m\u001b[33;43m'\u001b[39;49m\u001b[33;43mutf8\u001b[39;49m\u001b[33;43m'\u001b[39;49m\u001b[43m)\u001b[49m \u001b[38;5;28;01mas\u001b[39;00m f:\n\u001b[32m    594\u001b[39m     \u001b[38;5;28;01mreturn\u001b[39;00m \u001b[38;5;28mcls\u001b[39m(f, **options)\n",
      "\u001b[31mFileNotFoundError\u001b[39m: [Errno 2] No such file or directory: '/opt/hostedtoolcache/Python/3.12.11/x64/lib/python3.12/site-packages/kappybara/kappa.lark'"
     ]
    }
   ],
   "source": [
    "system = System.from_ka(\n",
    "    \"\"\"\n",
    "    %init: 100 A(x[.])\n",
    "    %init: 100 B(x[.])\n",
    "\n",
    "    %obs: 'AB' |A(x[1]), B(x[1])|\n",
    "\n",
    "    A(x[.]), B(x[.]) <-> A(x[1]), B(x[1]) @ 1, 1\n",
    "    \"\"\"\n",
    ")"
   ]
  },
  {
   "cell_type": "markdown",
   "metadata": {},
   "source": [
    "100 instances of molecules of type A and of type B, each with an empty binding domain x are created, and we track the number of AB complexes.\n",
    "\n",
    "We're going to simulate this system and plot its behavior, marking certain times of interest. We'll first simulate until time 1:"
   ]
  },
  {
   "cell_type": "code",
   "execution_count": 4,
   "metadata": {
    "execution": {
     "iopub.execute_input": "2025-10-09T16:40:31.012813Z",
     "iopub.status.busy": "2025-10-09T16:40:31.012641Z",
     "iopub.status.idle": "2025-10-09T16:40:31.032854Z",
     "shell.execute_reply": "2025-10-09T16:40:31.032377Z"
    }
   },
   "outputs": [
    {
     "ename": "NameError",
     "evalue": "name 'system' is not defined",
     "output_type": "error",
     "traceback": [
      "\u001b[31m---------------------------------------------------------------------------\u001b[39m",
      "\u001b[31mNameError\u001b[39m                                 Traceback (most recent call last)",
      "\u001b[36mCell\u001b[39m\u001b[36m \u001b[39m\u001b[32mIn[4]\u001b[39m\u001b[32m, line 2\u001b[39m\n\u001b[32m      1\u001b[39m times = []\n\u001b[32m----> \u001b[39m\u001b[32m2\u001b[39m \u001b[38;5;28;01mwhile\u001b[39;00m \u001b[43msystem\u001b[49m.time < \u001b[32m1\u001b[39m:\n\u001b[32m      3\u001b[39m     system.update()\n\u001b[32m      4\u001b[39m times.append(system.time)\n",
      "\u001b[31mNameError\u001b[39m: name 'system' is not defined"
     ]
    }
   ],
   "source": [
    "times = []\n",
    "while system.time < 1:\n",
    "    system.update()\n",
    "times.append(system.time)"
   ]
  },
  {
   "cell_type": "markdown",
   "metadata": {},
   "source": [
    "We'll now manually instantiate 50 new A and B molecules each, start tracking the number of free A, and simulate until there are no more than 10 free A in the mixture:"
   ]
  },
  {
   "cell_type": "code",
   "execution_count": 5,
   "metadata": {
    "execution": {
     "iopub.execute_input": "2025-10-09T16:40:31.034540Z",
     "iopub.status.busy": "2025-10-09T16:40:31.034376Z",
     "iopub.status.idle": "2025-10-09T16:40:31.055046Z",
     "shell.execute_reply": "2025-10-09T16:40:31.054594Z"
    }
   },
   "outputs": [
    {
     "ename": "NameError",
     "evalue": "name 'system' is not defined",
     "output_type": "error",
     "traceback": [
      "\u001b[31m---------------------------------------------------------------------------\u001b[39m",
      "\u001b[31mNameError\u001b[39m                                 Traceback (most recent call last)",
      "\u001b[36mCell\u001b[39m\u001b[36m \u001b[39m\u001b[32mIn[5]\u001b[39m\u001b[32m, line 1\u001b[39m\n\u001b[32m----> \u001b[39m\u001b[32m1\u001b[39m \u001b[43msystem\u001b[49m.mixture.instantiate(\u001b[33m\"\u001b[39m\u001b[33mA(x[.]), B(x[.])\u001b[39m\u001b[33m\"\u001b[39m, \u001b[32m50\u001b[39m)\n\u001b[32m      3\u001b[39m system[\u001b[33m\"\u001b[39m\u001b[33mA\u001b[39m\u001b[33m\"\u001b[39m] = \u001b[33m\"\u001b[39m\u001b[33m|A(x[.])|\u001b[39m\u001b[33m\"\u001b[39m\n\u001b[32m      4\u001b[39m \u001b[38;5;28;01mwhile\u001b[39;00m system[\u001b[33m\"\u001b[39m\u001b[33mA\u001b[39m\u001b[33m\"\u001b[39m] > \u001b[32m10\u001b[39m:\n",
      "\u001b[31mNameError\u001b[39m: name 'system' is not defined"
     ]
    }
   ],
   "source": [
    "system.mixture.instantiate(\"A(x[.]), B(x[.])\", 50)\n",
    "\n",
    "system[\"A\"] = \"|A(x[.])|\"\n",
    "while system[\"A\"] > 10:\n",
    "    system.update()\n",
    "times.append(system.time)"
   ]
  },
  {
   "cell_type": "markdown",
   "metadata": {},
   "source": [
    "Now let's simulate some more time:"
   ]
  },
  {
   "cell_type": "code",
   "execution_count": 6,
   "metadata": {
    "execution": {
     "iopub.execute_input": "2025-10-09T16:40:31.056756Z",
     "iopub.status.busy": "2025-10-09T16:40:31.056590Z",
     "iopub.status.idle": "2025-10-09T16:40:31.075642Z",
     "shell.execute_reply": "2025-10-09T16:40:31.075015Z"
    }
   },
   "outputs": [
    {
     "ename": "NameError",
     "evalue": "name 'system' is not defined",
     "output_type": "error",
     "traceback": [
      "\u001b[31m---------------------------------------------------------------------------\u001b[39m",
      "\u001b[31mNameError\u001b[39m                                 Traceback (most recent call last)",
      "\u001b[36mCell\u001b[39m\u001b[36m \u001b[39m\u001b[32mIn[6]\u001b[39m\u001b[32m, line 1\u001b[39m\n\u001b[32m----> \u001b[39m\u001b[32m1\u001b[39m \u001b[38;5;28;01mwhile\u001b[39;00m \u001b[43msystem\u001b[49m.time < \u001b[32m2\u001b[39m:\n\u001b[32m      2\u001b[39m     system.update()\n\u001b[32m      3\u001b[39m times.append(\u001b[32m2\u001b[39m)\n",
      "\u001b[31mNameError\u001b[39m: name 'system' is not defined"
     ]
    }
   ],
   "source": [
    "while system.time < 2:\n",
    "    system.update()\n",
    "times.append(2)"
   ]
  },
  {
   "cell_type": "markdown",
   "metadata": {},
   "source": [
    "The default simulator provides the most features since it’s written directly in Python, but models can be offloaded to [KaSim](https://github.com/Kappa-Dev/KappaTools), a compiled Kappa simulator, for faster simulation. For example, we could've run:\n",
    "```python\n",
    "system.update_via_kasim(time=1)\n",
    "```"
   ]
  },
  {
   "cell_type": "markdown",
   "metadata": {},
   "source": [
    "Finally, let’s plot the history of the quantities we tracked:"
   ]
  },
  {
   "cell_type": "code",
   "execution_count": 7,
   "metadata": {
    "execution": {
     "iopub.execute_input": "2025-10-09T16:40:31.077367Z",
     "iopub.status.busy": "2025-10-09T16:40:31.077186Z",
     "iopub.status.idle": "2025-10-09T16:40:31.096967Z",
     "shell.execute_reply": "2025-10-09T16:40:31.096382Z"
    }
   },
   "outputs": [
    {
     "ename": "NameError",
     "evalue": "name 'system' is not defined",
     "output_type": "error",
     "traceback": [
      "\u001b[31m---------------------------------------------------------------------------\u001b[39m",
      "\u001b[31mNameError\u001b[39m                                 Traceback (most recent call last)",
      "\u001b[36mCell\u001b[39m\u001b[36m \u001b[39m\u001b[32mIn[7]\u001b[39m\u001b[32m, line 3\u001b[39m\n\u001b[32m      1\u001b[39m \u001b[38;5;28;01mimport\u001b[39;00m\u001b[38;5;250m \u001b[39m\u001b[34;01mmatplotlib\u001b[39;00m\u001b[34;01m.\u001b[39;00m\u001b[34;01mpyplot\u001b[39;00m\u001b[38;5;250m \u001b[39m\u001b[38;5;28;01mas\u001b[39;00m\u001b[38;5;250m \u001b[39m\u001b[34;01mplt\u001b[39;00m\n\u001b[32m----> \u001b[39m\u001b[32m3\u001b[39m \u001b[43msystem\u001b[49m.monitor.plot(combined=\u001b[38;5;28;01mTrue\u001b[39;00m)\n\u001b[32m      4\u001b[39m \u001b[38;5;28;01mfor\u001b[39;00m time \u001b[38;5;129;01min\u001b[39;00m times:\n\u001b[32m      5\u001b[39m     plt.axvline(time, color=\u001b[33m\"\u001b[39m\u001b[33mblack\u001b[39m\u001b[33m\"\u001b[39m, linestyle=\u001b[33m\"\u001b[39m\u001b[33mdotted\u001b[39m\u001b[33m\"\u001b[39m)\n",
      "\u001b[31mNameError\u001b[39m: name 'system' is not defined"
     ]
    }
   ],
   "source": [
    "import matplotlib.pyplot as plt\n",
    "\n",
    "system.monitor.plot(combined=True)\n",
    "for time in times:\n",
    "    plt.axvline(time, color=\"black\", linestyle=\"dotted\")\n",
    "plt.show()"
   ]
  },
  {
   "cell_type": "markdown",
   "metadata": {},
   "source": [
    "Above it can be seen that the system equilibrates relatively early, new A is added, and the number of AB complexes increases."
   ]
  }
 ],
 "metadata": {
  "kernelspec": {
   "display_name": "kappa",
   "language": "python",
   "name": "python3"
  },
  "language_info": {
   "codemirror_mode": {
    "name": "ipython",
    "version": 3
   },
   "file_extension": ".py",
   "mimetype": "text/x-python",
   "name": "python",
   "nbconvert_exporter": "python",
   "pygments_lexer": "ipython3",
   "version": "3.12.11"
  }
 },
 "nbformat": 4,
 "nbformat_minor": 2
}
