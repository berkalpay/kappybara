{
 "cells": [
  {
   "cell_type": "markdown",
   "metadata": {},
   "source": [
    "# Linear polymerization\n",
    "\n",
    "This example demonstrates a simple polymerization process in which monomers `M` can bind each other to form linear chains.\n",
    "There's a lower rate of depolymerization, and chains can be terminated by capping agents `C`."
   ]
  },
  {
   "cell_type": "code",
   "execution_count": 1,
   "metadata": {
    "execution": {
     "iopub.execute_input": "2025-10-27T21:43:07.595356Z",
     "iopub.status.busy": "2025-10-27T21:43:07.595205Z",
     "iopub.status.idle": "2025-10-27T21:43:07.598468Z",
     "shell.execute_reply": "2025-10-27T21:43:07.597720Z"
    },
    "nbsphinx": "hidden"
   },
   "outputs": [],
   "source": [
    "import random\n",
    "random.seed(42)"
   ]
  },
  {
   "cell_type": "code",
   "execution_count": 2,
   "metadata": {
    "execution": {
     "iopub.execute_input": "2025-10-27T21:43:07.599922Z",
     "iopub.status.busy": "2025-10-27T21:43:07.599742Z",
     "iopub.status.idle": "2025-10-27T21:43:08.527917Z",
     "shell.execute_reply": "2025-10-27T21:43:08.527094Z"
    }
   },
   "outputs": [],
   "source": [
    "from kappybara.system import System\n",
    "\n",
    "system = System.from_ka(\n",
    "    \"\"\"\n",
    "    %init: 1000 M(l[.], r[.])\n",
    "\n",
    "    %obs: 'Free monomer' |M(l[.], r[.])|\n",
    "\n",
    "    M(r[.]), M(l[.]) -> M(r[1]), M(l[1]) @ 1  // Polymerization\n",
    "    M(r[1]), M(l[1]) -> M(r[.]), M(l[.]) @ 0.1  // Depolymerization\n",
    "    \n",
    "    // Chain capping\n",
    "    M(r[.]), C(m[.]) -> M(r[1]), C(m[1]) @ 0.05\n",
    "    M(l[.]), C(m[.]) -> M(l[1]), C(m[1]) @ 0.05\n",
    "    \n",
    "    // Cap removal\n",
    "    M(r[1]), C(m[1]) -> M(r[.]), C(m[.]) @ 0.01\n",
    "    M(l[1]), C(m[1]) -> M(l[.]), C(m[.]) @ 0.01\n",
    "    \"\"\"\n",
    ")"
   ]
  },
  {
   "cell_type": "markdown",
   "metadata": {},
   "source": [
    "Simulate for a bit:"
   ]
  },
  {
   "cell_type": "code",
   "execution_count": 3,
   "metadata": {
    "execution": {
     "iopub.execute_input": "2025-10-27T21:43:08.530167Z",
     "iopub.status.busy": "2025-10-27T21:43:08.529866Z",
     "iopub.status.idle": "2025-10-27T21:43:08.976770Z",
     "shell.execute_reply": "2025-10-27T21:43:08.975953Z"
    }
   },
   "outputs": [
    {
     "ename": "KeyError",
     "evalue": "'r'",
     "output_type": "error",
     "traceback": [
      "\u001b[31m---------------------------------------------------------------------------\u001b[39m",
      "\u001b[31mKeyError\u001b[39m                                  Traceback (most recent call last)",
      "\u001b[36mCell\u001b[39m\u001b[36m \u001b[39m\u001b[32mIn[3]\u001b[39m\u001b[32m, line 2\u001b[39m\n\u001b[32m      1\u001b[39m \u001b[38;5;28;01mwhile\u001b[39;00m system.time < \u001b[32m100\u001b[39m:\n\u001b[32m----> \u001b[39m\u001b[32m2\u001b[39m     \u001b[43msystem\u001b[49m\u001b[43m.\u001b[49m\u001b[43mupdate\u001b[49m\u001b[43m(\u001b[49m\u001b[43m)\u001b[49m\n",
      "\u001b[36mFile \u001b[39m\u001b[32m/opt/hostedtoolcache/Python/3.12.11/x64/lib/python3.12/site-packages/kappybara/system.py:475\u001b[39m, in \u001b[36mSystem.update\u001b[39m\u001b[34m(self)\u001b[39m\n\u001b[32m    473\u001b[39m \u001b[38;5;28;01mdef\u001b[39;00m\u001b[38;5;250m \u001b[39m\u001b[34mupdate\u001b[39m(\u001b[38;5;28mself\u001b[39m) -> \u001b[38;5;28;01mNone\u001b[39;00m:\n\u001b[32m    474\u001b[39m \u001b[38;5;250m    \u001b[39m\u001b[33;03m\"\"\"Perform one simulation step.\"\"\"\u001b[39;00m\n\u001b[32m--> \u001b[39m\u001b[32m475\u001b[39m     \u001b[38;5;28;43mself\u001b[39;49m\u001b[43m.\u001b[49m\u001b[43mwait\u001b[49m\u001b[43m(\u001b[49m\u001b[43m)\u001b[49m\n\u001b[32m    476\u001b[39m     \u001b[38;5;28;01mif\u001b[39;00m (rule := \u001b[38;5;28mself\u001b[39m.choose_rule()) \u001b[38;5;129;01mis\u001b[39;00m \u001b[38;5;129;01mnot\u001b[39;00m \u001b[38;5;28;01mNone\u001b[39;00m:\n\u001b[32m    477\u001b[39m         \u001b[38;5;28mself\u001b[39m.apply_rule(rule)\n",
      "\u001b[36mFile \u001b[39m\u001b[32m/opt/hostedtoolcache/Python/3.12.11/x64/lib/python3.12/site-packages/kappybara/system.py:439\u001b[39m, in \u001b[36mSystem.wait\u001b[39m\u001b[34m(self)\u001b[39m\n\u001b[32m    433\u001b[39m \u001b[38;5;250m\u001b[39m\u001b[33;03m\"\"\"Advance simulation time according to exponential distribution.\u001b[39;00m\n\u001b[32m    434\u001b[39m \n\u001b[32m    435\u001b[39m \u001b[33;03mRaises:\u001b[39;00m\n\u001b[32m    436\u001b[39m \u001b[33;03m    RuntimeWarning: If system has no reactivity (infinite wait time).\u001b[39;00m\n\u001b[32m    437\u001b[39m \u001b[33;03m\"\"\"\u001b[39;00m\n\u001b[32m    438\u001b[39m \u001b[38;5;28;01mtry\u001b[39;00m:\n\u001b[32m--> \u001b[39m\u001b[32m439\u001b[39m     \u001b[38;5;28mself\u001b[39m.time += random.expovariate(\u001b[38;5;28;43mself\u001b[39;49m\u001b[43m.\u001b[49m\u001b[43mreactivity\u001b[49m)\n\u001b[32m    440\u001b[39m \u001b[38;5;28;01mexcept\u001b[39;00m \u001b[38;5;167;01mZeroDivisionError\u001b[39;00m:\n\u001b[32m    441\u001b[39m     warnings.warn(\n\u001b[32m    442\u001b[39m         \u001b[33m\"\u001b[39m\u001b[33msystem has no reactivity: infinite wait time\u001b[39m\u001b[33m\"\u001b[39m, \u001b[38;5;167;01mRuntimeWarning\u001b[39;00m\n\u001b[32m    443\u001b[39m     )\n",
      "\u001b[36mFile \u001b[39m\u001b[32m/opt/hostedtoolcache/Python/3.12.11/x64/lib/python3.12/site-packages/kappybara/system.py:430\u001b[39m, in \u001b[36mSystem.reactivity\u001b[39m\u001b[34m(self)\u001b[39m\n\u001b[32m    423\u001b[39m \u001b[38;5;129m@property\u001b[39m\n\u001b[32m    424\u001b[39m \u001b[38;5;28;01mdef\u001b[39;00m\u001b[38;5;250m \u001b[39m\u001b[34mreactivity\u001b[39m(\u001b[38;5;28mself\u001b[39m) -> \u001b[38;5;28mfloat\u001b[39m:\n\u001b[32m    425\u001b[39m \u001b[38;5;250m    \u001b[39m\u001b[33;03m\"\"\"The total reactivity of the system.\u001b[39;00m\n\u001b[32m    426\u001b[39m \n\u001b[32m    427\u001b[39m \u001b[33;03m    Returns:\u001b[39;00m\n\u001b[32m    428\u001b[39m \u001b[33;03m        Sum of all rule reactivities.\u001b[39;00m\n\u001b[32m    429\u001b[39m \u001b[33;03m    \"\"\"\u001b[39;00m\n\u001b[32m--> \u001b[39m\u001b[32m430\u001b[39m     \u001b[38;5;28;01mreturn\u001b[39;00m \u001b[38;5;28msum\u001b[39m(\u001b[38;5;28;43mself\u001b[39;49m\u001b[43m.\u001b[49m\u001b[43mrule_reactivities\u001b[49m)\n",
      "\u001b[36mFile \u001b[39m\u001b[32m/opt/hostedtoolcache/Python/3.12.11/x64/lib/python3.12/functools.py:998\u001b[39m, in \u001b[36mcached_property.__get__\u001b[39m\u001b[34m(self, instance, owner)\u001b[39m\n\u001b[32m    996\u001b[39m val = cache.get(\u001b[38;5;28mself\u001b[39m.attrname, _NOT_FOUND)\n\u001b[32m    997\u001b[39m \u001b[38;5;28;01mif\u001b[39;00m val \u001b[38;5;129;01mis\u001b[39;00m _NOT_FOUND:\n\u001b[32m--> \u001b[39m\u001b[32m998\u001b[39m     val = \u001b[38;5;28;43mself\u001b[39;49m\u001b[43m.\u001b[49m\u001b[43mfunc\u001b[49m\u001b[43m(\u001b[49m\u001b[43minstance\u001b[49m\u001b[43m)\u001b[49m\n\u001b[32m    999\u001b[39m     \u001b[38;5;28;01mtry\u001b[39;00m:\n\u001b[32m   1000\u001b[39m         cache[\u001b[38;5;28mself\u001b[39m.attrname] = val\n",
      "\u001b[36mFile \u001b[39m\u001b[32m/opt/hostedtoolcache/Python/3.12.11/x64/lib/python3.12/site-packages/kappybara/system.py:421\u001b[39m, in \u001b[36mSystem.rule_reactivities\u001b[39m\u001b[34m(self)\u001b[39m\n\u001b[32m    414\u001b[39m \u001b[38;5;129m@cached_property\u001b[39m\n\u001b[32m    415\u001b[39m \u001b[38;5;28;01mdef\u001b[39;00m\u001b[38;5;250m \u001b[39m\u001b[34mrule_reactivities\u001b[39m(\u001b[38;5;28mself\u001b[39m) -> \u001b[38;5;28mlist\u001b[39m[\u001b[38;5;28mfloat\u001b[39m]:\n\u001b[32m    416\u001b[39m \u001b[38;5;250m    \u001b[39m\u001b[33;03m\"\"\"The reactivity of each rule in the system.\u001b[39;00m\n\u001b[32m    417\u001b[39m \n\u001b[32m    418\u001b[39m \u001b[33;03m    Returns:\u001b[39;00m\n\u001b[32m    419\u001b[39m \u001b[33;03m        List of reactivities corresponding to system rules.\u001b[39;00m\n\u001b[32m    420\u001b[39m \u001b[33;03m    \"\"\"\u001b[39;00m\n\u001b[32m--> \u001b[39m\u001b[32m421\u001b[39m     \u001b[38;5;28;01mreturn\u001b[39;00m [\u001b[43mrule\u001b[49m\u001b[43m.\u001b[49m\u001b[43mreactivity\u001b[49m\u001b[43m(\u001b[49m\u001b[38;5;28;43mself\u001b[39;49m\u001b[43m)\u001b[49m \u001b[38;5;28;01mfor\u001b[39;00m rule \u001b[38;5;129;01min\u001b[39;00m \u001b[38;5;28mself\u001b[39m.rules.values()]\n",
      "\u001b[36mFile \u001b[39m\u001b[32m/opt/hostedtoolcache/Python/3.12.11/x64/lib/python3.12/site-packages/kappybara/rule.py:186\u001b[39m, in \u001b[36mKappaRule.reactivity\u001b[39m\u001b[34m(self, system)\u001b[39m\n\u001b[32m    175\u001b[39m \u001b[38;5;28;01mdef\u001b[39;00m\u001b[38;5;250m \u001b[39m\u001b[34mreactivity\u001b[39m(\u001b[38;5;28mself\u001b[39m, system: \u001b[33m\"\u001b[39m\u001b[33mSystem\u001b[39m\u001b[33m\"\u001b[39m) -> \u001b[38;5;28mfloat\u001b[39m:\n\u001b[32m    176\u001b[39m \u001b[38;5;250m    \u001b[39m\u001b[33;03m\"\"\"Calculate the total reactivity of this rule in the given system.\u001b[39;00m\n\u001b[32m    177\u001b[39m \n\u001b[32m    178\u001b[39m \u001b[33;03m    Args:\u001b[39;00m\n\u001b[32m   (...)\u001b[39m\u001b[32m    183\u001b[39m \u001b[33;03m        for rule symmetry.\u001b[39;00m\n\u001b[32m    184\u001b[39m \u001b[33;03m    \"\"\"\u001b[39;00m\n\u001b[32m    185\u001b[39m     \u001b[38;5;28;01mreturn\u001b[39;00m (\n\u001b[32m--> \u001b[39m\u001b[32m186\u001b[39m         \u001b[38;5;28mself\u001b[39m.n_embeddings(system.mixture) // \u001b[38;5;28;43mself\u001b[39;49m\u001b[43m.\u001b[49m\u001b[43mn_symmetries\u001b[49m * \u001b[38;5;28mself\u001b[39m.rate(system)\n\u001b[32m    187\u001b[39m     )\n",
      "\u001b[36mFile \u001b[39m\u001b[32m/opt/hostedtoolcache/Python/3.12.11/x64/lib/python3.12/functools.py:998\u001b[39m, in \u001b[36mcached_property.__get__\u001b[39m\u001b[34m(self, instance, owner)\u001b[39m\n\u001b[32m    996\u001b[39m val = cache.get(\u001b[38;5;28mself\u001b[39m.attrname, _NOT_FOUND)\n\u001b[32m    997\u001b[39m \u001b[38;5;28;01mif\u001b[39;00m val \u001b[38;5;129;01mis\u001b[39;00m _NOT_FOUND:\n\u001b[32m--> \u001b[39m\u001b[32m998\u001b[39m     val = \u001b[38;5;28;43mself\u001b[39;49m\u001b[43m.\u001b[49m\u001b[43mfunc\u001b[49m\u001b[43m(\u001b[49m\u001b[43minstance\u001b[49m\u001b[43m)\u001b[49m\n\u001b[32m    999\u001b[39m     \u001b[38;5;28;01mtry\u001b[39;00m:\n\u001b[32m   1000\u001b[39m         cache[\u001b[38;5;28mself\u001b[39m.attrname] = val\n",
      "\u001b[36mFile \u001b[39m\u001b[32m/opt/hostedtoolcache/Python/3.12.11/x64/lib/python3.12/site-packages/kappybara/rule.py:219\u001b[39m, in \u001b[36mKappaRule.n_symmetries\u001b[39m\u001b[34m(self)\u001b[39m\n\u001b[32m    216\u001b[39m         r.interface[\u001b[33m\"\u001b[39m\u001b[33m__temp__\u001b[39m\u001b[33m\"\u001b[39m] = r_site\n\u001b[32m    218\u001b[39m pattern = Pattern(left_agents + right_agents)\n\u001b[32m--> \u001b[39m\u001b[32m219\u001b[39m \u001b[38;5;28;01mreturn\u001b[39;00m \u001b[43mpattern\u001b[49m\u001b[43m.\u001b[49m\u001b[43mn_isomorphisms\u001b[49m\u001b[43m(\u001b[49m\u001b[43mpattern\u001b[49m\u001b[43m)\u001b[49m\n",
      "\u001b[36mFile \u001b[39m\u001b[32m/opt/hostedtoolcache/Python/3.12.11/x64/lib/python3.12/site-packages/kappybara/pattern.py:723\u001b[39m, in \u001b[36mPattern.n_isomorphisms\u001b[39m\u001b[34m(self, other)\u001b[39m\n\u001b[32m    721\u001b[39m     temp = \u001b[32m1\u001b[39m\n\u001b[32m    722\u001b[39m     \u001b[38;5;28;01mfor\u001b[39;00m l, r \u001b[38;5;129;01min\u001b[39;00m \u001b[38;5;28mzip\u001b[39m(\u001b[38;5;28mself\u001b[39m.components, perm):\n\u001b[32m--> \u001b[39m\u001b[32m723\u001b[39m         temp *= \u001b[38;5;28mlen\u001b[39m(\u001b[38;5;28;43mlist\u001b[39;49m\u001b[43m(\u001b[49m\u001b[43ml\u001b[49m\u001b[43m.\u001b[49m\u001b[43misomorphisms\u001b[49m\u001b[43m(\u001b[49m\u001b[43mr\u001b[49m\u001b[43m)\u001b[49m\u001b[43m)\u001b[49m)\n\u001b[32m    724\u001b[39m     res += temp\n\u001b[32m    725\u001b[39m \u001b[38;5;28;01mreturn\u001b[39;00m res\n",
      "\u001b[36mFile \u001b[39m\u001b[32m/opt/hostedtoolcache/Python/3.12.11/x64/lib/python3.12/site-packages/kappybara/pattern.py:520\u001b[39m, in \u001b[36mComponent.isomorphisms\u001b[39m\u001b[34m(self, other)\u001b[39m\n\u001b[32m    518\u001b[39m \u001b[38;5;28;01mif\u001b[39;00m \u001b[38;5;28mlen\u001b[39m(\u001b[38;5;28mself\u001b[39m.agents) != \u001b[38;5;28mlen\u001b[39m(other.agents):\n\u001b[32m    519\u001b[39m     \u001b[38;5;28;01mreturn\u001b[39;00m\n\u001b[32m--> \u001b[39m\u001b[32m520\u001b[39m \u001b[38;5;28;01myield from\u001b[39;00m \u001b[38;5;28mself\u001b[39m.embeddings(other, exact=\u001b[38;5;28;01mTrue\u001b[39;00m)\n",
      "\u001b[36mFile \u001b[39m\u001b[32m/opt/hostedtoolcache/Python/3.12.11/x64/lib/python3.12/site-packages/kappybara/pattern.py:469\u001b[39m, in \u001b[36mComponent.embeddings\u001b[39m\u001b[34m(self, other, exact)\u001b[39m\n\u001b[32m    466\u001b[39m b = agent_map[a]\n\u001b[32m    468\u001b[39m match_func = a.isomorphic \u001b[38;5;28;01mif\u001b[39;00m exact \u001b[38;5;28;01melse\u001b[39;00m a.embeds_in\n\u001b[32m--> \u001b[39m\u001b[32m469\u001b[39m \u001b[38;5;28;01mif\u001b[39;00m \u001b[38;5;129;01mnot\u001b[39;00m \u001b[43mmatch_func\u001b[49m\u001b[43m(\u001b[49m\u001b[43mb\u001b[49m\u001b[43m)\u001b[49m:\n\u001b[32m    470\u001b[39m     root_failed = \u001b[38;5;28;01mTrue\u001b[39;00m\n\u001b[32m    471\u001b[39m     \u001b[38;5;28;01mbreak\u001b[39;00m\n",
      "\u001b[36mFile \u001b[39m\u001b[32m/opt/hostedtoolcache/Python/3.12.11/x64/lib/python3.12/site-packages/kappybara/pattern.py:309\u001b[39m, in \u001b[36mAgent.isomorphic\u001b[39m\u001b[34m(self, other)\u001b[39m\n\u001b[32m    307\u001b[39m \u001b[38;5;28;01mif\u001b[39;00m site_name \u001b[38;5;129;01mnot\u001b[39;00m \u001b[38;5;129;01min\u001b[39;00m other.interface \u001b[38;5;129;01mand\u001b[39;00m \u001b[38;5;129;01mnot\u001b[39;00m a_site.undetermined:\n\u001b[32m    308\u001b[39m     \u001b[38;5;28;01mreturn\u001b[39;00m \u001b[38;5;28;01mFalse\u001b[39;00m\n\u001b[32m--> \u001b[39m\u001b[32m309\u001b[39m \u001b[43mb_sites_leftover\u001b[49m\u001b[43m.\u001b[49m\u001b[43mremove\u001b[49m\u001b[43m(\u001b[49m\u001b[43msite_name\u001b[49m\u001b[43m)\u001b[49m\n\u001b[32m    310\u001b[39m \u001b[38;5;28;01mif\u001b[39;00m a_site.state != other[site_name].state:\n\u001b[32m    311\u001b[39m     \u001b[38;5;28;01mreturn\u001b[39;00m \u001b[38;5;28;01mFalse\u001b[39;00m\n",
      "\u001b[31mKeyError\u001b[39m: 'r'"
     ]
    }
   ],
   "source": [
    "while system.time < 100:\n",
    "    system.update()"
   ]
  },
  {
   "cell_type": "code",
   "execution_count": 4,
   "metadata": {
    "execution": {
     "iopub.execute_input": "2025-10-27T21:43:08.978932Z",
     "iopub.status.busy": "2025-10-27T21:43:08.978711Z",
     "iopub.status.idle": "2025-10-27T21:43:09.126785Z",
     "shell.execute_reply": "2025-10-27T21:43:09.126074Z"
    }
   },
   "outputs": [
    {
     "name": "stdout",
     "output_type": "stream",
     "text": [
      "Free monomers: 1000\n"
     ]
    },
    {
     "data": {
      "image/png": "[encoded data removed]",
      "text/plain": [
       "<Figure size 640x480 with 1 Axes>"
      ]
     },
     "metadata": {},
     "output_type": "display_data"
    }
   ],
   "source": [
    "import matplotlib.pyplot as plt\n",
    "\n",
    "def polymer_len_plot(system):\n",
    "    plt.hist([len(component) for component in system.mixture if len(component) > 1])\n",
    "    plt.xlabel(\"Polymer length\")\n",
    "    plt.ylabel(\"Count\");\n",
    "\n",
    "print(f\"Free monomers: {system['Free monomer']}\")\n",
    "polymer_len_plot(system)"
   ]
  },
  {
   "cell_type": "markdown",
   "metadata": {},
   "source": [
    "Now let's add some of the capping agent:"
   ]
  },
  {
   "cell_type": "code",
   "execution_count": 5,
   "metadata": {
    "execution": {
     "iopub.execute_input": "2025-10-27T21:43:09.128448Z",
     "iopub.status.busy": "2025-10-27T21:43:09.128273Z",
     "iopub.status.idle": "2025-10-27T21:43:09.304201Z",
     "shell.execute_reply": "2025-10-27T21:43:09.303288Z"
    }
   },
   "outputs": [
    {
     "ename": "KeyError",
     "evalue": "'r'",
     "output_type": "error",
     "traceback": [
      "\u001b[31m---------------------------------------------------------------------------\u001b[39m",
      "\u001b[31mKeyError\u001b[39m                                  Traceback (most recent call last)",
      "\u001b[36mCell\u001b[39m\u001b[36m \u001b[39m\u001b[32mIn[5]\u001b[39m\u001b[32m, line 4\u001b[39m\n\u001b[32m      1\u001b[39m system.mixture.instantiate(\u001b[33m\"\u001b[39m\u001b[33mC(m[.])\u001b[39m\u001b[33m\"\u001b[39m, \u001b[32m500\u001b[39m)\n\u001b[32m      3\u001b[39m \u001b[38;5;28;01mwhile\u001b[39;00m system.time < \u001b[32m200\u001b[39m:\n\u001b[32m----> \u001b[39m\u001b[32m4\u001b[39m     \u001b[43msystem\u001b[49m\u001b[43m.\u001b[49m\u001b[43mupdate\u001b[49m\u001b[43m(\u001b[49m\u001b[43m)\u001b[49m\n\u001b[32m      6\u001b[39m \u001b[38;5;28mprint\u001b[39m(\u001b[33mf\u001b[39m\u001b[33m\"\u001b[39m\u001b[33mFree monomers: \u001b[39m\u001b[38;5;132;01m{\u001b[39;00msystem[\u001b[33m'\u001b[39m\u001b[33mFree monomer\u001b[39m\u001b[33m'\u001b[39m]\u001b[38;5;132;01m}\u001b[39;00m\u001b[33m\"\u001b[39m)\n\u001b[32m      7\u001b[39m polymer_len_plot(system)\n",
      "\u001b[36mFile \u001b[39m\u001b[32m/opt/hostedtoolcache/Python/3.12.11/x64/lib/python3.12/site-packages/kappybara/system.py:475\u001b[39m, in \u001b[36mSystem.update\u001b[39m\u001b[34m(self)\u001b[39m\n\u001b[32m    473\u001b[39m \u001b[38;5;28;01mdef\u001b[39;00m\u001b[38;5;250m \u001b[39m\u001b[34mupdate\u001b[39m(\u001b[38;5;28mself\u001b[39m) -> \u001b[38;5;28;01mNone\u001b[39;00m:\n\u001b[32m    474\u001b[39m \u001b[38;5;250m    \u001b[39m\u001b[33;03m\"\"\"Perform one simulation step.\"\"\"\u001b[39;00m\n\u001b[32m--> \u001b[39m\u001b[32m475\u001b[39m     \u001b[38;5;28;43mself\u001b[39;49m\u001b[43m.\u001b[49m\u001b[43mwait\u001b[49m\u001b[43m(\u001b[49m\u001b[43m)\u001b[49m\n\u001b[32m    476\u001b[39m     \u001b[38;5;28;01mif\u001b[39;00m (rule := \u001b[38;5;28mself\u001b[39m.choose_rule()) \u001b[38;5;129;01mis\u001b[39;00m \u001b[38;5;129;01mnot\u001b[39;00m \u001b[38;5;28;01mNone\u001b[39;00m:\n\u001b[32m    477\u001b[39m         \u001b[38;5;28mself\u001b[39m.apply_rule(rule)\n",
      "\u001b[36mFile \u001b[39m\u001b[32m/opt/hostedtoolcache/Python/3.12.11/x64/lib/python3.12/site-packages/kappybara/system.py:439\u001b[39m, in \u001b[36mSystem.wait\u001b[39m\u001b[34m(self)\u001b[39m\n\u001b[32m    433\u001b[39m \u001b[38;5;250m\u001b[39m\u001b[33;03m\"\"\"Advance simulation time according to exponential distribution.\u001b[39;00m\n\u001b[32m    434\u001b[39m \n\u001b[32m    435\u001b[39m \u001b[33;03mRaises:\u001b[39;00m\n\u001b[32m    436\u001b[39m \u001b[33;03m    RuntimeWarning: If system has no reactivity (infinite wait time).\u001b[39;00m\n\u001b[32m    437\u001b[39m \u001b[33;03m\"\"\"\u001b[39;00m\n\u001b[32m    438\u001b[39m \u001b[38;5;28;01mtry\u001b[39;00m:\n\u001b[32m--> \u001b[39m\u001b[32m439\u001b[39m     \u001b[38;5;28mself\u001b[39m.time += random.expovariate(\u001b[38;5;28;43mself\u001b[39;49m\u001b[43m.\u001b[49m\u001b[43mreactivity\u001b[49m)\n\u001b[32m    440\u001b[39m \u001b[38;5;28;01mexcept\u001b[39;00m \u001b[38;5;167;01mZeroDivisionError\u001b[39;00m:\n\u001b[32m    441\u001b[39m     warnings.warn(\n\u001b[32m    442\u001b[39m         \u001b[33m\"\u001b[39m\u001b[33msystem has no reactivity: infinite wait time\u001b[39m\u001b[33m\"\u001b[39m, \u001b[38;5;167;01mRuntimeWarning\u001b[39;00m\n\u001b[32m    443\u001b[39m     )\n",
      "\u001b[36mFile \u001b[39m\u001b[32m/opt/hostedtoolcache/Python/3.12.11/x64/lib/python3.12/site-packages/kappybara/system.py:430\u001b[39m, in \u001b[36mSystem.reactivity\u001b[39m\u001b[34m(self)\u001b[39m\n\u001b[32m    423\u001b[39m \u001b[38;5;129m@property\u001b[39m\n\u001b[32m    424\u001b[39m \u001b[38;5;28;01mdef\u001b[39;00m\u001b[38;5;250m \u001b[39m\u001b[34mreactivity\u001b[39m(\u001b[38;5;28mself\u001b[39m) -> \u001b[38;5;28mfloat\u001b[39m:\n\u001b[32m    425\u001b[39m \u001b[38;5;250m    \u001b[39m\u001b[33;03m\"\"\"The total reactivity of the system.\u001b[39;00m\n\u001b[32m    426\u001b[39m \n\u001b[32m    427\u001b[39m \u001b[33;03m    Returns:\u001b[39;00m\n\u001b[32m    428\u001b[39m \u001b[33;03m        Sum of all rule reactivities.\u001b[39;00m\n\u001b[32m    429\u001b[39m \u001b[33;03m    \"\"\"\u001b[39;00m\n\u001b[32m--> \u001b[39m\u001b[32m430\u001b[39m     \u001b[38;5;28;01mreturn\u001b[39;00m \u001b[38;5;28msum\u001b[39m(\u001b[38;5;28;43mself\u001b[39;49m\u001b[43m.\u001b[49m\u001b[43mrule_reactivities\u001b[49m)\n",
      "\u001b[36mFile \u001b[39m\u001b[32m/opt/hostedtoolcache/Python/3.12.11/x64/lib/python3.12/functools.py:998\u001b[39m, in \u001b[36mcached_property.__get__\u001b[39m\u001b[34m(self, instance, owner)\u001b[39m\n\u001b[32m    996\u001b[39m val = cache.get(\u001b[38;5;28mself\u001b[39m.attrname, _NOT_FOUND)\n\u001b[32m    997\u001b[39m \u001b[38;5;28;01mif\u001b[39;00m val \u001b[38;5;129;01mis\u001b[39;00m _NOT_FOUND:\n\u001b[32m--> \u001b[39m\u001b[32m998\u001b[39m     val = \u001b[38;5;28;43mself\u001b[39;49m\u001b[43m.\u001b[49m\u001b[43mfunc\u001b[49m\u001b[43m(\u001b[49m\u001b[43minstance\u001b[49m\u001b[43m)\u001b[49m\n\u001b[32m    999\u001b[39m     \u001b[38;5;28;01mtry\u001b[39;00m:\n\u001b[32m   1000\u001b[39m         cache[\u001b[38;5;28mself\u001b[39m.attrname] = val\n",
      "\u001b[36mFile \u001b[39m\u001b[32m/opt/hostedtoolcache/Python/3.12.11/x64/lib/python3.12/site-packages/kappybara/system.py:421\u001b[39m, in \u001b[36mSystem.rule_reactivities\u001b[39m\u001b[34m(self)\u001b[39m\n\u001b[32m    414\u001b[39m \u001b[38;5;129m@cached_property\u001b[39m\n\u001b[32m    415\u001b[39m \u001b[38;5;28;01mdef\u001b[39;00m\u001b[38;5;250m \u001b[39m\u001b[34mrule_reactivities\u001b[39m(\u001b[38;5;28mself\u001b[39m) -> \u001b[38;5;28mlist\u001b[39m[\u001b[38;5;28mfloat\u001b[39m]:\n\u001b[32m    416\u001b[39m \u001b[38;5;250m    \u001b[39m\u001b[33;03m\"\"\"The reactivity of each rule in the system.\u001b[39;00m\n\u001b[32m    417\u001b[39m \n\u001b[32m    418\u001b[39m \u001b[33;03m    Returns:\u001b[39;00m\n\u001b[32m    419\u001b[39m \u001b[33;03m        List of reactivities corresponding to system rules.\u001b[39;00m\n\u001b[32m    420\u001b[39m \u001b[33;03m    \"\"\"\u001b[39;00m\n\u001b[32m--> \u001b[39m\u001b[32m421\u001b[39m     \u001b[38;5;28;01mreturn\u001b[39;00m [\u001b[43mrule\u001b[49m\u001b[43m.\u001b[49m\u001b[43mreactivity\u001b[49m\u001b[43m(\u001b[49m\u001b[38;5;28;43mself\u001b[39;49m\u001b[43m)\u001b[49m \u001b[38;5;28;01mfor\u001b[39;00m rule \u001b[38;5;129;01min\u001b[39;00m \u001b[38;5;28mself\u001b[39m.rules.values()]\n",
      "\u001b[36mFile \u001b[39m\u001b[32m/opt/hostedtoolcache/Python/3.12.11/x64/lib/python3.12/site-packages/kappybara/rule.py:186\u001b[39m, in \u001b[36mKappaRule.reactivity\u001b[39m\u001b[34m(self, system)\u001b[39m\n\u001b[32m    175\u001b[39m \u001b[38;5;28;01mdef\u001b[39;00m\u001b[38;5;250m \u001b[39m\u001b[34mreactivity\u001b[39m(\u001b[38;5;28mself\u001b[39m, system: \u001b[33m\"\u001b[39m\u001b[33mSystem\u001b[39m\u001b[33m\"\u001b[39m) -> \u001b[38;5;28mfloat\u001b[39m:\n\u001b[32m    176\u001b[39m \u001b[38;5;250m    \u001b[39m\u001b[33;03m\"\"\"Calculate the total reactivity of this rule in the given system.\u001b[39;00m\n\u001b[32m    177\u001b[39m \n\u001b[32m    178\u001b[39m \u001b[33;03m    Args:\u001b[39;00m\n\u001b[32m   (...)\u001b[39m\u001b[32m    183\u001b[39m \u001b[33;03m        for rule symmetry.\u001b[39;00m\n\u001b[32m    184\u001b[39m \u001b[33;03m    \"\"\"\u001b[39;00m\n\u001b[32m    185\u001b[39m     \u001b[38;5;28;01mreturn\u001b[39;00m (\n\u001b[32m--> \u001b[39m\u001b[32m186\u001b[39m         \u001b[38;5;28mself\u001b[39m.n_embeddings(system.mixture) // \u001b[38;5;28;43mself\u001b[39;49m\u001b[43m.\u001b[49m\u001b[43mn_symmetries\u001b[49m * \u001b[38;5;28mself\u001b[39m.rate(system)\n\u001b[32m    187\u001b[39m     )\n",
      "\u001b[36mFile \u001b[39m\u001b[32m/opt/hostedtoolcache/Python/3.12.11/x64/lib/python3.12/functools.py:998\u001b[39m, in \u001b[36mcached_property.__get__\u001b[39m\u001b[34m(self, instance, owner)\u001b[39m\n\u001b[32m    996\u001b[39m val = cache.get(\u001b[38;5;28mself\u001b[39m.attrname, _NOT_FOUND)\n\u001b[32m    997\u001b[39m \u001b[38;5;28;01mif\u001b[39;00m val \u001b[38;5;129;01mis\u001b[39;00m _NOT_FOUND:\n\u001b[32m--> \u001b[39m\u001b[32m998\u001b[39m     val = \u001b[38;5;28;43mself\u001b[39;49m\u001b[43m.\u001b[49m\u001b[43mfunc\u001b[49m\u001b[43m(\u001b[49m\u001b[43minstance\u001b[49m\u001b[43m)\u001b[49m\n\u001b[32m    999\u001b[39m     \u001b[38;5;28;01mtry\u001b[39;00m:\n\u001b[32m   1000\u001b[39m         cache[\u001b[38;5;28mself\u001b[39m.attrname] = val\n",
      "\u001b[36mFile \u001b[39m\u001b[32m/opt/hostedtoolcache/Python/3.12.11/x64/lib/python3.12/site-packages/kappybara/rule.py:219\u001b[39m, in \u001b[36mKappaRule.n_symmetries\u001b[39m\u001b[34m(self)\u001b[39m\n\u001b[32m    216\u001b[39m         r.interface[\u001b[33m\"\u001b[39m\u001b[33m__temp__\u001b[39m\u001b[33m\"\u001b[39m] = r_site\n\u001b[32m    218\u001b[39m pattern = Pattern(left_agents + right_agents)\n\u001b[32m--> \u001b[39m\u001b[32m219\u001b[39m \u001b[38;5;28;01mreturn\u001b[39;00m \u001b[43mpattern\u001b[49m\u001b[43m.\u001b[49m\u001b[43mn_isomorphisms\u001b[49m\u001b[43m(\u001b[49m\u001b[43mpattern\u001b[49m\u001b[43m)\u001b[49m\n",
      "\u001b[36mFile \u001b[39m\u001b[32m/opt/hostedtoolcache/Python/3.12.11/x64/lib/python3.12/site-packages/kappybara/pattern.py:723\u001b[39m, in \u001b[36mPattern.n_isomorphisms\u001b[39m\u001b[34m(self, other)\u001b[39m\n\u001b[32m    721\u001b[39m     temp = \u001b[32m1\u001b[39m\n\u001b[32m    722\u001b[39m     \u001b[38;5;28;01mfor\u001b[39;00m l, r \u001b[38;5;129;01min\u001b[39;00m \u001b[38;5;28mzip\u001b[39m(\u001b[38;5;28mself\u001b[39m.components, perm):\n\u001b[32m--> \u001b[39m\u001b[32m723\u001b[39m         temp *= \u001b[38;5;28mlen\u001b[39m(\u001b[38;5;28;43mlist\u001b[39;49m\u001b[43m(\u001b[49m\u001b[43ml\u001b[49m\u001b[43m.\u001b[49m\u001b[43misomorphisms\u001b[49m\u001b[43m(\u001b[49m\u001b[43mr\u001b[49m\u001b[43m)\u001b[49m\u001b[43m)\u001b[49m)\n\u001b[32m    724\u001b[39m     res += temp\n\u001b[32m    725\u001b[39m \u001b[38;5;28;01mreturn\u001b[39;00m res\n",
      "\u001b[36mFile \u001b[39m\u001b[32m/opt/hostedtoolcache/Python/3.12.11/x64/lib/python3.12/site-packages/kappybara/pattern.py:520\u001b[39m, in \u001b[36mComponent.isomorphisms\u001b[39m\u001b[34m(self, other)\u001b[39m\n\u001b[32m    518\u001b[39m \u001b[38;5;28;01mif\u001b[39;00m \u001b[38;5;28mlen\u001b[39m(\u001b[38;5;28mself\u001b[39m.agents) != \u001b[38;5;28mlen\u001b[39m(other.agents):\n\u001b[32m    519\u001b[39m     \u001b[38;5;28;01mreturn\u001b[39;00m\n\u001b[32m--> \u001b[39m\u001b[32m520\u001b[39m \u001b[38;5;28;01myield from\u001b[39;00m \u001b[38;5;28mself\u001b[39m.embeddings(other, exact=\u001b[38;5;28;01mTrue\u001b[39;00m)\n",
      "\u001b[36mFile \u001b[39m\u001b[32m/opt/hostedtoolcache/Python/3.12.11/x64/lib/python3.12/site-packages/kappybara/pattern.py:469\u001b[39m, in \u001b[36mComponent.embeddings\u001b[39m\u001b[34m(self, other, exact)\u001b[39m\n\u001b[32m    466\u001b[39m b = agent_map[a]\n\u001b[32m    468\u001b[39m match_func = a.isomorphic \u001b[38;5;28;01mif\u001b[39;00m exact \u001b[38;5;28;01melse\u001b[39;00m a.embeds_in\n\u001b[32m--> \u001b[39m\u001b[32m469\u001b[39m \u001b[38;5;28;01mif\u001b[39;00m \u001b[38;5;129;01mnot\u001b[39;00m \u001b[43mmatch_func\u001b[49m\u001b[43m(\u001b[49m\u001b[43mb\u001b[49m\u001b[43m)\u001b[49m:\n\u001b[32m    470\u001b[39m     root_failed = \u001b[38;5;28;01mTrue\u001b[39;00m\n\u001b[32m    471\u001b[39m     \u001b[38;5;28;01mbreak\u001b[39;00m\n",
      "\u001b[36mFile \u001b[39m\u001b[32m/opt/hostedtoolcache/Python/3.12.11/x64/lib/python3.12/site-packages/kappybara/pattern.py:309\u001b[39m, in \u001b[36mAgent.isomorphic\u001b[39m\u001b[34m(self, other)\u001b[39m\n\u001b[32m    307\u001b[39m \u001b[38;5;28;01mif\u001b[39;00m site_name \u001b[38;5;129;01mnot\u001b[39;00m \u001b[38;5;129;01min\u001b[39;00m other.interface \u001b[38;5;129;01mand\u001b[39;00m \u001b[38;5;129;01mnot\u001b[39;00m a_site.undetermined:\n\u001b[32m    308\u001b[39m     \u001b[38;5;28;01mreturn\u001b[39;00m \u001b[38;5;28;01mFalse\u001b[39;00m\n\u001b[32m--> \u001b[39m\u001b[32m309\u001b[39m \u001b[43mb_sites_leftover\u001b[49m\u001b[43m.\u001b[49m\u001b[43mremove\u001b[49m\u001b[43m(\u001b[49m\u001b[43msite_name\u001b[49m\u001b[43m)\u001b[49m\n\u001b[32m    310\u001b[39m \u001b[38;5;28;01mif\u001b[39;00m a_site.state != other[site_name].state:\n\u001b[32m    311\u001b[39m     \u001b[38;5;28;01mreturn\u001b[39;00m \u001b[38;5;28;01mFalse\u001b[39;00m\n",
      "\u001b[31mKeyError\u001b[39m: 'r'"
     ]
    }
   ],
   "source": [
    "system.mixture.instantiate(\"C(m[.])\", 500)\n",
    "\n",
    "while system.time < 200:\n",
    "    system.update()\n",
    "\n",
    "print(f\"Free monomers: {system['Free monomer']}\")\n",
    "polymer_len_plot(system)"
   ]
  }
 ],
 "metadata": {
  "kernelspec": {
   "display_name": "standard",
   "language": "python",
   "name": "python3"
  },
  "language_info": {
   "codemirror_mode": {
    "name": "ipython",
    "version": 3
   },
   "file_extension": ".py",
   "mimetype": "text/x-python",
   "name": "python",
   "nbconvert_exporter": "python",
   "pygments_lexer": "ipython3",
   "version": "3.12.11"
  }
 },
 "nbformat": 4,
 "nbformat_minor": 2
}
