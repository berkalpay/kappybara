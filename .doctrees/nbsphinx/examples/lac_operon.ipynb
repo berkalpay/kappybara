{
 "cells": [
  {
   "cell_type": "markdown",
   "metadata": {},
   "source": [
    "# The lac operon\n",
    "\n",
    "The *E. coli* lac operon controls the production of enzymes needed to metabolize lactose and is regulated in large part by lactose availability.\n",
    "This example model includes\n",
    "- LacI (I) repression of the lac operon via blocking of the operator (O),\n",
    "- lactose (L) transport by LacY (Y) permease,\n",
    "- conversion of lactose to allolactose (A) by LacZ β-galactosidase (Z),\n",
    "- and allolactose-mediated derepression of the operon."
   ]
  },
  {
   "cell_type": "code",
   "execution_count": 1,
   "metadata": {
    "execution": {
     "iopub.execute_input": "2025-10-09T16:39:55.973138Z",
     "iopub.status.busy": "2025-10-09T16:39:55.972891Z",
     "iopub.status.idle": "2025-10-09T16:39:55.976335Z",
     "shell.execute_reply": "2025-10-09T16:39:55.975763Z"
    }
   },
   "outputs": [],
   "source": [
    "import random\n",
    "random.seed(0)"
   ]
  },
  {
   "cell_type": "code",
   "execution_count": 2,
   "metadata": {
    "execution": {
     "iopub.execute_input": "2025-10-09T16:39:55.978064Z",
     "iopub.status.busy": "2025-10-09T16:39:55.977891Z",
     "iopub.status.idle": "2025-10-09T16:39:56.889575Z",
     "shell.execute_reply": "2025-10-09T16:39:56.888887Z"
    }
   },
   "outputs": [
    {
     "ename": "FileNotFoundError",
     "evalue": "[Errno 2] No such file or directory: '/opt/hostedtoolcache/Python/3.12.11/x64/lib/python3.12/site-packages/kappybara/kappa.lark'",
     "output_type": "error",
     "traceback": [
      "\u001b[31m---------------------------------------------------------------------------\u001b[39m",
      "\u001b[31mFileNotFoundError\u001b[39m                         Traceback (most recent call last)",
      "\u001b[36mCell\u001b[39m\u001b[36m \u001b[39m\u001b[32mIn[2]\u001b[39m\u001b[32m, line 3\u001b[39m\n\u001b[32m      1\u001b[39m \u001b[38;5;28;01mfrom\u001b[39;00m\u001b[38;5;250m \u001b[39m\u001b[34;01mkappybara\u001b[39;00m\u001b[34;01m.\u001b[39;00m\u001b[34;01msystem\u001b[39;00m\u001b[38;5;250m \u001b[39m\u001b[38;5;28;01mimport\u001b[39;00m System\n\u001b[32m----> \u001b[39m\u001b[32m3\u001b[39m system = \u001b[43mSystem\u001b[49m\u001b[43m.\u001b[49m\u001b[43mfrom_ka\u001b[49m\u001b[43m(\u001b[49m\n\u001b[32m      4\u001b[39m \u001b[38;5;250;43m    \u001b[39;49m\u001b[33;43;03m\"\"\"\u001b[39;49;00m\n\u001b[32m      5\u001b[39m \u001b[33;43;03m    %init: 1 O(i[.])\u001b[39;49;00m\n\u001b[32m      6\u001b[39m \u001b[33;43;03m    %init: 1 I(o[.])\u001b[39;49;00m\n\u001b[32m      7\u001b[39m \u001b[33;43;03m    %init: 10 Y()\u001b[39;49;00m\n\u001b[32m      8\u001b[39m \u001b[33;43;03m    %init: 10 Z(l[.])\u001b[39;49;00m\n\u001b[32m      9\u001b[39m \n\u001b[32m     10\u001b[39m \u001b[33;43;03m    %obs: 'Extracellular lactose' |L(loc{out})| / 100\u001b[39;49;00m\n\u001b[32m     11\u001b[39m \u001b[33;43;03m    %obs: 'LacY' |Y()|\u001b[39;49;00m\n\u001b[32m     12\u001b[39m \u001b[33;43;03m    %obs: 'Free Lac operon' |O(i[.])|\u001b[39;49;00m\n\u001b[32m     13\u001b[39m \n\u001b[32m     14\u001b[39m \u001b[33;43;03m    I(o[.]), O(i[.]) <-> I(o[1]), O(i[1]) @ 1, 0.1  // Repress the lac operon\u001b[39;49;00m\n\u001b[32m     15\u001b[39m \u001b[33;43;03m    Y(), L(loc{out}) -> Y(), L(loc{in}) @ 0.01  // Transport lactose into the cell\u001b[39;49;00m\n\u001b[32m     16\u001b[39m \u001b[33;43;03m    Z(l[.]), L(loc{in}) -> Z(l[.]), A(z[.], i[.]) @ 1  // Convert lactose into allolactose\u001b[39;49;00m\n\u001b[32m     17\u001b[39m \u001b[33;43;03m    A(i[.]), I(o[.]) <-> A(i[1]), I(o[1]) @ 1, 0.1  // Deactivate the repressor by allolactose\u001b[39;49;00m\n\u001b[32m     18\u001b[39m \u001b[33;43;03m    O(i[.]), ., . -> O(i[.]), Z(l[.]), Y() @ 1 // Express the lac operon\u001b[39;49;00m\n\u001b[32m     19\u001b[39m \u001b[33;43;03m    L(loc{in}) -> E() @ 1  // Metabolize lactose\u001b[39;49;00m\n\u001b[32m     20\u001b[39m \n\u001b[32m     21\u001b[39m \u001b[33;43;03m    // Degradation\u001b[39;49;00m\n\u001b[32m     22\u001b[39m \u001b[33;43;03m    A() -> . @ 0.1\u001b[39;49;00m\n\u001b[32m     23\u001b[39m \u001b[33;43;03m    Y() -> . @ 0.5\u001b[39;49;00m\n\u001b[32m     24\u001b[39m \u001b[33;43;03m    Z() -> . @ 0.5\u001b[39;49;00m\n\u001b[32m     25\u001b[39m \u001b[33;43;03m    \"\"\"\u001b[39;49;00m\n\u001b[32m     26\u001b[39m \u001b[43m)\u001b[49m\n",
      "\u001b[36mFile \u001b[39m\u001b[32m/opt/hostedtoolcache/Python/3.12.11/x64/lib/python3.12/site-packages/kappybara/system.py:64\u001b[39m, in \u001b[36mSystem.from_ka\u001b[39m\u001b[34m(cls, ka_str)\u001b[39m\n\u001b[32m     54\u001b[39m \u001b[38;5;129m@classmethod\u001b[39m\n\u001b[32m     55\u001b[39m \u001b[38;5;28;01mdef\u001b[39;00m\u001b[38;5;250m \u001b[39m\u001b[34mfrom_ka\u001b[39m(\u001b[38;5;28mcls\u001b[39m, ka_str: \u001b[38;5;28mstr\u001b[39m) -> Self:\n\u001b[32m     56\u001b[39m \u001b[38;5;250m    \u001b[39m\u001b[33;03m\"\"\"Create a System from a Kappa (.ka style) string.\u001b[39;00m\n\u001b[32m     57\u001b[39m \n\u001b[32m     58\u001b[39m \u001b[33;03m    Args:\u001b[39;00m\n\u001b[32m   (...)\u001b[39m\u001b[32m     62\u001b[39m \u001b[33;03m        A new System instance parsed from the string.\u001b[39;00m\n\u001b[32m     63\u001b[39m \u001b[33;03m    \"\"\"\u001b[39;00m\n\u001b[32m---> \u001b[39m\u001b[32m64\u001b[39m     \u001b[38;5;28;01mfrom\u001b[39;00m\u001b[38;5;250m \u001b[39m\u001b[34;01mkappybara\u001b[39;00m\u001b[34;01m.\u001b[39;00m\u001b[34;01mgrammar\u001b[39;00m\u001b[38;5;250m \u001b[39m\u001b[38;5;28;01mimport\u001b[39;00m (\n\u001b[32m     65\u001b[39m         kappa_parser,\n\u001b[32m     66\u001b[39m         parse_tree_to_expression,\n\u001b[32m     67\u001b[39m         PatternBuilder,\n\u001b[32m     68\u001b[39m         RuleBuilder,\n\u001b[32m     69\u001b[39m     )\n\u001b[32m     71\u001b[39m     input_tree = kappa_parser.parse(ka_str)\n\u001b[32m     72\u001b[39m     \u001b[38;5;28;01massert\u001b[39;00m input_tree.data == \u001b[33m\"\u001b[39m\u001b[33mkappa_input\u001b[39m\u001b[33m\"\u001b[39m\n",
      "\u001b[36mFile \u001b[39m\u001b[32m/opt/hostedtoolcache/Python/3.12.11/x64/lib/python3.12/site-packages/kappybara/grammar.py:40\u001b[39m\n\u001b[32m     36\u001b[39m         \u001b[38;5;28;01mwith\u001b[39;00m \u001b[38;5;28mopen\u001b[39m(filepath, \u001b[33m\"\u001b[39m\u001b[33mr\u001b[39m\u001b[33m\"\u001b[39m) \u001b[38;5;28;01mas\u001b[39;00m file:\n\u001b[32m     37\u001b[39m             \u001b[38;5;28;01mreturn\u001b[39;00m \u001b[38;5;28mself\u001b[39m._parser.parse(file.read())\n\u001b[32m---> \u001b[39m\u001b[32m40\u001b[39m kappa_parser = \u001b[43mKappaParser\u001b[49m\u001b[43m(\u001b[49m\u001b[43m)\u001b[49m\n\u001b[32m     43\u001b[39m \u001b[38;5;129m@dataclass\u001b[39m\n\u001b[32m     44\u001b[39m \u001b[38;5;28;01mclass\u001b[39;00m\u001b[38;5;250m \u001b[39m\u001b[34;01mSiteBuilder\u001b[39;00m(Visitor):\n\u001b[32m     45\u001b[39m \u001b[38;5;250m    \u001b[39m\u001b[33;03m\"\"\"Builds Site objects from Lark parse trees.\u001b[39;00m\n\u001b[32m     46\u001b[39m \n\u001b[32m     47\u001b[39m \u001b[33;03m    Attributes:\u001b[39;00m\n\u001b[32m   (...)\u001b[39m\u001b[32m     50\u001b[39m \u001b[33;03m        parsed_partner: Partner specification for the site.\u001b[39;00m\n\u001b[32m     51\u001b[39m \u001b[33;03m    \"\"\"\u001b[39;00m\n",
      "\u001b[36mFile \u001b[39m\u001b[32m/opt/hostedtoolcache/Python/3.12.11/x64/lib/python3.12/site-packages/kappybara/grammar.py:20\u001b[39m, in \u001b[36mKappaParser.__init__\u001b[39m\u001b[34m(self)\u001b[39m\n\u001b[32m     18\u001b[39m \u001b[38;5;28;01mdef\u001b[39;00m\u001b[38;5;250m \u001b[39m\u001b[34m__init__\u001b[39m(\u001b[38;5;28mself\u001b[39m):\n\u001b[32m     19\u001b[39m \u001b[38;5;250m    \u001b[39m\u001b[33;03m\"\"\"Initialize the Lark parser with Kappa grammar.\"\"\"\u001b[39;00m\n\u001b[32m---> \u001b[39m\u001b[32m20\u001b[39m     \u001b[38;5;28mself\u001b[39m._parser = \u001b[43mLark\u001b[49m\u001b[43m.\u001b[49m\u001b[43mopen\u001b[49m\u001b[43m(\u001b[49m\n\u001b[32m     21\u001b[39m \u001b[43m        \u001b[49m\u001b[38;5;28;43mstr\u001b[39;49m\u001b[43m(\u001b[49m\u001b[43mPath\u001b[49m\u001b[43m(\u001b[49m\u001b[34;43m__file__\u001b[39;49m\u001b[43m)\u001b[49m\u001b[43m.\u001b[49m\u001b[43mparent\u001b[49m\u001b[43m \u001b[49m\u001b[43m/\u001b[49m\u001b[43m \u001b[49m\u001b[33;43m\"\u001b[39;49m\u001b[33;43mkappa.lark\u001b[39;49m\u001b[33;43m\"\u001b[39;49m\u001b[43m)\u001b[49m\u001b[43m,\u001b[49m\n\u001b[32m     22\u001b[39m \u001b[43m        \u001b[49m\u001b[43mrel_to\u001b[49m\u001b[43m=\u001b[49m\u001b[34;43m__file__\u001b[39;49m\u001b[43m,\u001b[49m\n\u001b[32m     23\u001b[39m \u001b[43m        \u001b[49m\u001b[43mparser\u001b[49m\u001b[43m=\u001b[49m\u001b[33;43m\"\u001b[39;49m\u001b[33;43mearley\u001b[39;49m\u001b[33;43m\"\u001b[39;49m\u001b[43m,\u001b[49m\n\u001b[32m     24\u001b[39m \u001b[43m        \u001b[49m\u001b[38;5;66;43;03m# The basic lexer isn't required and isn't usually recommended\u001b[39;49;00m\n\u001b[32m     25\u001b[39m \u001b[43m        \u001b[49m\u001b[43mlexer\u001b[49m\u001b[43m=\u001b[49m\u001b[33;43m\"\u001b[39;49m\u001b[33;43mdynamic\u001b[39;49m\u001b[33;43m\"\u001b[39;49m\u001b[43m,\u001b[49m\n\u001b[32m     26\u001b[39m \u001b[43m        \u001b[49m\u001b[43mstart\u001b[49m\u001b[43m=\u001b[49m\u001b[33;43m\"\u001b[39;49m\u001b[33;43mkappa_input\u001b[39;49m\u001b[33;43m\"\u001b[39;49m\u001b[43m,\u001b[49m\n\u001b[32m     27\u001b[39m \u001b[43m        \u001b[49m\u001b[38;5;66;43;03m# Disabling these slightly improves speed\u001b[39;49;00m\n\u001b[32m     28\u001b[39m \u001b[43m        \u001b[49m\u001b[43mpropagate_positions\u001b[49m\u001b[43m=\u001b[49m\u001b[38;5;28;43;01mFalse\u001b[39;49;00m\u001b[43m,\u001b[49m\n\u001b[32m     29\u001b[39m \u001b[43m        \u001b[49m\u001b[43mmaybe_placeholders\u001b[49m\u001b[43m=\u001b[49m\u001b[38;5;28;43;01mFalse\u001b[39;49;00m\u001b[43m,\u001b[49m\n\u001b[32m     30\u001b[39m \u001b[43m    \u001b[49m\u001b[43m)\u001b[49m\n",
      "\u001b[36mFile \u001b[39m\u001b[32m/opt/hostedtoolcache/Python/3.12.11/x64/lib/python3.12/site-packages/lark/lark.py:593\u001b[39m, in \u001b[36mLark.open\u001b[39m\u001b[34m(cls, grammar_filename, rel_to, **options)\u001b[39m\n\u001b[32m    591\u001b[39m     basepath = os.path.dirname(rel_to)\n\u001b[32m    592\u001b[39m     grammar_filename = os.path.join(basepath, grammar_filename)\n\u001b[32m--> \u001b[39m\u001b[32m593\u001b[39m \u001b[38;5;28;01mwith\u001b[39;00m \u001b[38;5;28;43mopen\u001b[39;49m\u001b[43m(\u001b[49m\u001b[43mgrammar_filename\u001b[49m\u001b[43m,\u001b[49m\u001b[43m \u001b[49m\u001b[43mencoding\u001b[49m\u001b[43m=\u001b[49m\u001b[33;43m'\u001b[39;49m\u001b[33;43mutf8\u001b[39;49m\u001b[33;43m'\u001b[39;49m\u001b[43m)\u001b[49m \u001b[38;5;28;01mas\u001b[39;00m f:\n\u001b[32m    594\u001b[39m     \u001b[38;5;28;01mreturn\u001b[39;00m \u001b[38;5;28mcls\u001b[39m(f, **options)\n",
      "\u001b[31mFileNotFoundError\u001b[39m: [Errno 2] No such file or directory: '/opt/hostedtoolcache/Python/3.12.11/x64/lib/python3.12/site-packages/kappybara/kappa.lark'"
     ]
    }
   ],
   "source": [
    "from kappybara.system import System\n",
    "\n",
    "system = System.from_ka(\n",
    "    \"\"\"\n",
    "    %init: 1 O(i[.])\n",
    "    %init: 1 I(o[.])\n",
    "    %init: 10 Y()\n",
    "    %init: 10 Z(l[.])\n",
    "\n",
    "    %obs: 'Extracellular lactose' |L(loc{out})| / 100\n",
    "    %obs: 'LacY' |Y()|\n",
    "    %obs: 'Free Lac operon' |O(i[.])|\n",
    "\n",
    "    I(o[.]), O(i[.]) <-> I(o[1]), O(i[1]) @ 1, 0.1  // Repress the lac operon\n",
    "    Y(), L(loc{out}) -> Y(), L(loc{in}) @ 0.01  // Transport lactose into the cell\n",
    "    Z(l[.]), L(loc{in}) -> Z(l[.]), A(z[.], i[.]) @ 1  // Convert lactose into allolactose\n",
    "    A(i[.]), I(o[.]) <-> A(i[1]), I(o[1]) @ 1, 0.1  // Deactivate the repressor by allolactose\n",
    "    O(i[.]), ., . -> O(i[.]), Z(l[.]), Y() @ 1 // Express the lac operon\n",
    "    L(loc{in}) -> E() @ 1  // Metabolize lactose\n",
    "\n",
    "    // Degradation\n",
    "    A() -> . @ 0.1\n",
    "    Y() -> . @ 0.5\n",
    "    Z() -> . @ 0.5\n",
    "    \"\"\"\n",
    ")"
   ]
  },
  {
   "cell_type": "markdown",
   "metadata": {},
   "source": [
    "We simulate the system first without lactose, then add extracellular lactose to observe the regulatory response."
   ]
  },
  {
   "cell_type": "code",
   "execution_count": 3,
   "metadata": {
    "execution": {
     "iopub.execute_input": "2025-10-09T16:39:56.891555Z",
     "iopub.status.busy": "2025-10-09T16:39:56.891375Z",
     "iopub.status.idle": "2025-10-09T16:39:56.959208Z",
     "shell.execute_reply": "2025-10-09T16:39:56.958729Z"
    }
   },
   "outputs": [
    {
     "ename": "NameError",
     "evalue": "name 'system' is not defined",
     "output_type": "error",
     "traceback": [
      "\u001b[31m---------------------------------------------------------------------------\u001b[39m",
      "\u001b[31mNameError\u001b[39m                                 Traceback (most recent call last)",
      "\u001b[36mCell\u001b[39m\u001b[36m \u001b[39m\u001b[32mIn[3]\u001b[39m\u001b[32m, line 2\u001b[39m\n\u001b[32m      1\u001b[39m \u001b[38;5;66;03m# Simulate a while with no extracellular lactose\u001b[39;00m\n\u001b[32m----> \u001b[39m\u001b[32m2\u001b[39m \u001b[38;5;28;01mwhile\u001b[39;00m \u001b[43msystem\u001b[49m.time < \u001b[32m300\u001b[39m:\n\u001b[32m      3\u001b[39m     system.update()\n\u001b[32m      5\u001b[39m \u001b[38;5;66;03m# Add extracellular lactose and continue simulating\u001b[39;00m\n",
      "\u001b[31mNameError\u001b[39m: name 'system' is not defined"
     ]
    }
   ],
   "source": [
    "# Simulate a while with no extracellular lactose\n",
    "while system.time < 300:\n",
    "    system.update()\n",
    "\n",
    "# Add extracellular lactose and continue simulating\n",
    "system.mixture.instantiate(\"L(loc{out})\", 1000)\n",
    "while system.time < 800:\n",
    "   system.update()"
   ]
  },
  {
   "cell_type": "code",
   "execution_count": 4,
   "metadata": {
    "execution": {
     "iopub.execute_input": "2025-10-09T16:39:56.960941Z",
     "iopub.status.busy": "2025-10-09T16:39:56.960773Z",
     "iopub.status.idle": "2025-10-09T16:39:56.979127Z",
     "shell.execute_reply": "2025-10-09T16:39:56.978537Z"
    }
   },
   "outputs": [
    {
     "ename": "NameError",
     "evalue": "name 'system' is not defined",
     "output_type": "error",
     "traceback": [
      "\u001b[31m---------------------------------------------------------------------------\u001b[39m",
      "\u001b[31mNameError\u001b[39m                                 Traceback (most recent call last)",
      "\u001b[36mCell\u001b[39m\u001b[36m \u001b[39m\u001b[32mIn[4]\u001b[39m\u001b[32m, line 1\u001b[39m\n\u001b[32m----> \u001b[39m\u001b[32m1\u001b[39m \u001b[43msystem\u001b[49m.monitor.plot();\n",
      "\u001b[31mNameError\u001b[39m: name 'system' is not defined"
     ]
    }
   ],
   "source": [
    "system.monitor.plot();"
   ]
  },
  {
   "cell_type": "markdown",
   "metadata": {},
   "source": [
    "Without lactose, the operon remains mostly repressed.\n",
    "When extracellular lactose is added,\n",
    "- existing LacY transports some lactose into the cell,\n",
    "- intracellular lactose is converted to allolactose by LacZ,\n",
    "- allolactose inactivates the LacI repressor,\n",
    "- derepressing the operon and leading to increased LacY and LacZ production.\n",
    "\n",
    "As lactose is metabolized the operon is again repressed."
   ]
  }
 ],
 "metadata": {
  "kernelspec": {
   "display_name": "Python 3",
   "language": "python",
   "name": "python3"
  },
  "language_info": {
   "codemirror_mode": {
    "name": "ipython",
    "version": 3
   },
   "file_extension": ".py",
   "mimetype": "text/x-python",
   "name": "python",
   "nbconvert_exporter": "python",
   "pygments_lexer": "ipython3",
   "version": "3.12.11"
  }
 },
 "nbformat": 4,
 "nbformat_minor": 2
}
